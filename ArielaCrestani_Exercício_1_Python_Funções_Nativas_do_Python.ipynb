{
  "nbformat": 4,
  "nbformat_minor": 0,
  "metadata": {
    "colab": {
      "provenance": [],
      "include_colab_link": true
    },
    "kernelspec": {
      "name": "python3",
      "display_name": "Python 3"
    },
    "language_info": {
      "name": "python"
    }
  },
  "cells": [
    {
      "cell_type": "markdown",
      "metadata": {
        "id": "view-in-github",
        "colab_type": "text"
      },
      "source": [
        "<a href=\"https://colab.research.google.com/github/AriCrestani/Exercicios_Sirius/blob/main/ArielaCrestani_Exerc%C3%ADcio_1_Python_Fun%C3%A7%C3%B5es_Nativas_do_Python.ipynb\" target=\"_parent\"><img src=\"https://colab.research.google.com/assets/colab-badge.svg\" alt=\"Open In Colab\"/></a>"
      ]
    },
    {
      "cell_type": "markdown",
      "source": [
        "#Funções internas\n",
        "\n",
        "Uma função é uma sequência de comandos que executa alguma tarefa. Veja alguns modelos:"
      ],
      "metadata": {
        "id": "IaifxEiZvMO9"
      }
    },
    {
      "cell_type": "code",
      "source": [
        "print(type(2))\n",
        "\n",
        "# esse comando imprime o tipo de dados fornecido entre os (), nesse caso o numero 2 é entendido pelo código como um número inteiro (int)."
      ],
      "metadata": {
        "id": "WeZIocGXvaNo",
        "colab": {
          "base_uri": "https://localhost:8080/"
        },
        "outputId": "3106c86f-935a-4c8c-f2ef-f74999dde247"
      },
      "execution_count": null,
      "outputs": [
        {
          "output_type": "stream",
          "name": "stdout",
          "text": [
            "<class 'int'>\n"
          ]
        }
      ]
    },
    {
      "cell_type": "code",
      "source": [
        "print(max('Alo mundo'))\n",
        "\n",
        "# esse comando imprime o caracter máximo do elemento fornecido entre os (), nesse caso como é uma string, ou seja, um conunto de caracteres.\n",
        "# ele irá buscar pela \"letra máxima\", ou seja, a letra mais \"distante\" do alfabeto, que nesse caso é o \"u\""
      ],
      "metadata": {
        "id": "59ueMcyuvc7W",
        "colab": {
          "base_uri": "https://localhost:8080/"
        },
        "outputId": "8f15129c-b4cb-4c5c-c80b-1cdccfe7fd59"
      },
      "execution_count": null,
      "outputs": [
        {
          "output_type": "stream",
          "name": "stdout",
          "text": [
            "u\n"
          ]
        }
      ]
    },
    {
      "cell_type": "code",
      "source": [
        "print(min('Alo mundo'))\n",
        "\n",
        "# esse comando busca pelo caracter mínimo, nesse caso ele volta vazio, pois a função entende que espaço vazio (entre as palavras)\n",
        "# configuram o caracter mínimo dessa string"
      ],
      "metadata": {
        "id": "fkN0LexMvigm",
        "colab": {
          "base_uri": "https://localhost:8080/"
        },
        "outputId": "332cc45b-6f0c-4bba-a7d1-1fa7f8ed035b"
      },
      "execution_count": null,
      "outputs": [
        {
          "output_type": "stream",
          "name": "stdout",
          "text": [
            " \n"
          ]
        }
      ]
    },
    {
      "cell_type": "code",
      "source": [
        "print(max([1,2,4,55]))\n",
        "\n",
        "# a função max() aplicada sobre uma lista numérica, irá retornar o maior número que existe ali"
      ],
      "metadata": {
        "id": "YwR7SfWwvgKb",
        "colab": {
          "base_uri": "https://localhost:8080/"
        },
        "outputId": "93e72f23-2033-4c69-8e36-f87346126e1b"
      },
      "execution_count": null,
      "outputs": [
        {
          "output_type": "stream",
          "name": "stdout",
          "text": [
            "55\n"
          ]
        }
      ]
    },
    {
      "cell_type": "code",
      "source": [
        "print(min([1,2,4,55]))\n",
        "\n",
        "# a função min() aplicada sobre uma lista numérica, irá retornar o menor número que existe ali"
      ],
      "metadata": {
        "id": "Qf82gpVXvkct",
        "colab": {
          "base_uri": "https://localhost:8080/"
        },
        "outputId": "81467c5e-37ce-4af3-cd44-b3f95ba601fd"
      },
      "execution_count": null,
      "outputs": [
        {
          "output_type": "stream",
          "name": "stdout",
          "text": [
            "1\n"
          ]
        }
      ]
    },
    {
      "cell_type": "code",
      "source": [
        "print(len('Alô mundo'))\n",
        "\n",
        "# a função len() retorna o tamanho do elemento, ou seja, a quantidade de caraceres ali presentes, incluindo o espaço, nesse caso."
      ],
      "metadata": {
        "id": "Ns2WsecWvmsr",
        "colab": {
          "base_uri": "https://localhost:8080/"
        },
        "outputId": "3dc20243-a2e4-41c8-d778-654df355d686"
      },
      "execution_count": null,
      "outputs": [
        {
          "output_type": "stream",
          "name": "stdout",
          "text": [
            "9\n"
          ]
        }
      ]
    },
    {
      "cell_type": "markdown",
      "source": [
        "# Funções de conversão de tipo\n",
        "\n",
        "São funções internas que convertem valores de um tipo para para outro. Veja alguns exemplos (str,int,float):"
      ],
      "metadata": {
        "id": "Gx6DK8Z2vqGr"
      }
    },
    {
      "cell_type": "code",
      "source": [
        "print(int('32'))\n",
        "\n",
        "# essa função converte a string '32' em um número inteiro 32."
      ],
      "metadata": {
        "id": "xShABtcyv1on",
        "colab": {
          "base_uri": "https://localhost:8080/"
        },
        "outputId": "1242721a-6d35-4423-b261-a1d617dc09d7"
      },
      "execution_count": null,
      "outputs": [
        {
          "output_type": "stream",
          "name": "stdout",
          "text": [
            "32\n"
          ]
        }
      ]
    },
    {
      "cell_type": "code",
      "source": [
        "print(int('Hello'))\n",
        "\n",
        "# essa função não pode ser executada, pois ela tentará converter o elemento para numero inteiro\n",
        "# por se tratar de uma string com letras, a função não consegue converter"
      ],
      "metadata": {
        "id": "K_I3Q9Gfv7N3",
        "colab": {
          "base_uri": "https://localhost:8080/",
          "height": 176
        },
        "outputId": "26ec7c2e-b3f1-4052-ca32-326cafaab737"
      },
      "execution_count": null,
      "outputs": [
        {
          "output_type": "error",
          "ename": "ValueError",
          "evalue": "invalid literal for int() with base 10: 'Hello'",
          "traceback": [
            "\u001b[0;31m---------------------------------------------------------------------------\u001b[0m",
            "\u001b[0;31mValueError\u001b[0m                                Traceback (most recent call last)",
            "\u001b[0;32m<ipython-input-10-598307202f55>\u001b[0m in \u001b[0;36m<cell line: 1>\u001b[0;34m()\u001b[0m\n\u001b[0;32m----> 1\u001b[0;31m \u001b[0mprint\u001b[0m\u001b[0;34m(\u001b[0m\u001b[0mint\u001b[0m\u001b[0;34m(\u001b[0m\u001b[0;34m'Hello'\u001b[0m\u001b[0;34m)\u001b[0m\u001b[0;34m)\u001b[0m\u001b[0;34m\u001b[0m\u001b[0;34m\u001b[0m\u001b[0m\n\u001b[0m",
            "\u001b[0;31mValueError\u001b[0m: invalid literal for int() with base 10: 'Hello'"
          ]
        }
      ]
    },
    {
      "cell_type": "code",
      "source": [
        "print(int(5.777))\n",
        "\n",
        "# a função int() transformará o elemento inputado em um núemro inteiro\n",
        "# nesse caso o numero decimas 5.777 perde suas casa decimais e passa a ser considerado apenas como 5 (extrai apenas sua parte inteira)"
      ],
      "metadata": {
        "id": "Qiuxa0eEv8_k",
        "colab": {
          "base_uri": "https://localhost:8080/"
        },
        "outputId": "1b443866-626e-46a5-b911-4f0624eac9c0"
      },
      "execution_count": null,
      "outputs": [
        {
          "output_type": "stream",
          "name": "stdout",
          "text": [
            "5\n"
          ]
        }
      ]
    },
    {
      "cell_type": "code",
      "source": [
        "print(int('OLA'))\n",
        "\n",
        "# mesmo caso da célula 10\n",
        "\n",
        "# essa função não pode ser executada, pois ela tentará converter o elemento para numero inteiro\n",
        "# por se tratar de uma string com letras, a função não consegue converter"
      ],
      "metadata": {
        "id": "Y4ZPEsBBv-oK",
        "colab": {
          "base_uri": "https://localhost:8080/",
          "height": 211
        },
        "outputId": "87aa0d8c-1758-47bf-9659-b65a1cb59d07"
      },
      "execution_count": null,
      "outputs": [
        {
          "output_type": "error",
          "ename": "ValueError",
          "evalue": "invalid literal for int() with base 10: 'OLA'",
          "traceback": [
            "\u001b[0;31m---------------------------------------------------------------------------\u001b[0m",
            "\u001b[0;31mValueError\u001b[0m                                Traceback (most recent call last)",
            "\u001b[0;32m<ipython-input-13-a92835733ac5>\u001b[0m in \u001b[0;36m<cell line: 1>\u001b[0;34m()\u001b[0m\n\u001b[0;32m----> 1\u001b[0;31m \u001b[0mprint\u001b[0m\u001b[0;34m(\u001b[0m\u001b[0mint\u001b[0m\u001b[0;34m(\u001b[0m\u001b[0;34m'OLA'\u001b[0m\u001b[0;34m)\u001b[0m\u001b[0;34m)\u001b[0m\u001b[0;34m\u001b[0m\u001b[0;34m\u001b[0m\u001b[0m\n\u001b[0m\u001b[1;32m      2\u001b[0m \u001b[0;34m\u001b[0m\u001b[0m\n\u001b[1;32m      3\u001b[0m \u001b[0;31m# mesmo caso da célula 10\u001b[0m\u001b[0;34m\u001b[0m\u001b[0;34m\u001b[0m\u001b[0m\n",
            "\u001b[0;31mValueError\u001b[0m: invalid literal for int() with base 10: 'OLA'"
          ]
        }
      ]
    },
    {
      "cell_type": "code",
      "source": [
        "print(int(-9.4))\n",
        "\n",
        "# mesmo caso da célula 11\n",
        "\n",
        "# a função int() transformará o elemento inputado em um núemro inteiro\n",
        "# nesse caso o numero decimas -9.4 perde suas casa decimais e passa a ser considerado apenas como 9 (extrai apenas sua parte inteira)"
      ],
      "metadata": {
        "id": "v1v9QueIwASc",
        "colab": {
          "base_uri": "https://localhost:8080/"
        },
        "outputId": "67560eb2-3b7a-4d17-95a8-407feeaa70ca"
      },
      "execution_count": null,
      "outputs": [
        {
          "output_type": "stream",
          "name": "stdout",
          "text": [
            "-9\n"
          ]
        }
      ]
    },
    {
      "cell_type": "code",
      "source": [
        " print(float(32))\n",
        "\n",
        " # a função float() transforma o elemento, nesse caso numérico, em número decimal"
      ],
      "metadata": {
        "id": "CUlAYtn3wCFG",
        "colab": {
          "base_uri": "https://localhost:8080/"
        },
        "outputId": "524e8540-537e-4c27-a3cd-f0ca49bc429c"
      },
      "execution_count": null,
      "outputs": [
        {
          "output_type": "stream",
          "name": "stdout",
          "text": [
            "32.0\n"
          ]
        }
      ]
    },
    {
      "cell_type": "code",
      "source": [
        " print(float('2.589'))\n",
        "\n",
        "  # a função float() transforma o elemento, nesse caso string com dígitos numéricos, em número decimal"
      ],
      "metadata": {
        "id": "CG2TSoPvwDug",
        "colab": {
          "base_uri": "https://localhost:8080/"
        },
        "outputId": "49f1dd5a-b419-4b72-a1c6-139390242780"
      },
      "execution_count": null,
      "outputs": [
        {
          "output_type": "stream",
          "name": "stdout",
          "text": [
            "2.589\n"
          ]
        }
      ]
    },
    {
      "cell_type": "markdown",
      "source": [
        "# Funções matemáticas\n",
        "\n",
        "Python tem um módulo matemático que oferece a maioria das funções matemáticas comuns. Um módulo é um arquivo contendo definições e comandos em Python para serem usados em outros programas em Python. Há diversos módulos do Python que fazem parte da biblioteca padrão. A ideia é que você pode importar códigos escritos por outras pessoas. Vamos importar um desses módulos."
      ],
      "metadata": {
        "id": "LdIeGw35wOvC"
      }
    },
    {
      "cell_type": "code",
      "source": [
        "import math as m"
      ],
      "metadata": {
        "id": "SSFWt6c3weFi"
      },
      "execution_count": null,
      "outputs": []
    },
    {
      "cell_type": "code",
      "source": [
        "# Para acessar uma das funções, é preciso especificar o nome do módulo e o nome da função, separados por um ponto.\n",
        "\n",
        "pi = m.pi\n",
        "print(pi)"
      ],
      "metadata": {
        "id": "N06Wm_gO-FzT",
        "colab": {
          "base_uri": "https://localhost:8080/"
        },
        "outputId": "30791755-e549-4593-e73a-fab5cf68f728"
      },
      "execution_count": null,
      "outputs": [
        {
          "output_type": "stream",
          "name": "stdout",
          "text": [
            "3.141592653589793\n"
          ]
        }
      ]
    },
    {
      "cell_type": "code",
      "source": [
        "# math.comb(n, k) Retorna o número de maneiras de escolher k itens de n itens sem repetição e sem ordem.\n",
        "# Por exemplo, considere um conjunto com seis elementos que serão tomados dois a dois. Observe que aqui n = 6 e k = 2 logo :\n",
        "\n",
        "m.comb(6,2)\n",
        "\n",
        "# é uma função para calcular quantas possiveis combinações não repetidas podem acontecer entre os elementos\n",
        "# o primeiro numero especifica a quantidade de elementos que você quer considerar e o segundo número define o numero de elementos a ser agrupado\n",
        "# nesse caso: em um conjunto de 6 elementos, quantas combinações diferentes posso fazer juntando de 2 em 2?"
      ],
      "metadata": {
        "id": "ZuW79FaS-JdG",
        "colab": {
          "base_uri": "https://localhost:8080/"
        },
        "outputId": "936fc5d0-516a-45af-d213-36e02ead9f52"
      },
      "execution_count": null,
      "outputs": [
        {
          "output_type": "execute_result",
          "data": {
            "text/plain": [
              "15"
            ]
          },
          "metadata": {},
          "execution_count": 19
        }
      ]
    },
    {
      "cell_type": "code",
      "source": [
        " ## Quantas combinações na mega-sena---- k=6, n=60\n",
        " m.comb(60,6)\n",
        "\n",
        " # existem 60 numeros diferentes que podem ser escolhidos e temos que escolher de 6 em 6"
      ],
      "metadata": {
        "colab": {
          "base_uri": "https://localhost:8080/"
        },
        "id": "BcPST6D5w-1t",
        "outputId": "bd56f2f7-1bb2-482b-f405-4279838bb61d"
      },
      "execution_count": null,
      "outputs": [
        {
          "output_type": "execute_result",
          "data": {
            "text/plain": [
              "50063860"
            ]
          },
          "metadata": {},
          "execution_count": 20
        }
      ]
    },
    {
      "cell_type": "code",
      "source": [
        "###Composição e chamada de funcoes:\n",
        "\n",
        "x = m.sqrt(16)\n",
        "y =  8*x\n",
        "print(y)\n",
        "\n",
        "# a função m.sqrt() extrai a raiz quadrada do número, nesse caso a raiz quadrada de 16 é 4, portanto x = 4\n",
        "# a variavel y passa a ser 32, pois 8 x 4 = 32"
      ],
      "metadata": {
        "colab": {
          "base_uri": "https://localhost:8080/"
        },
        "id": "CHPim-XaxAy4",
        "outputId": "4be5d7cc-ea55-421f-a220-c07b5fc6f8c1"
      },
      "execution_count": null,
      "outputs": [
        {
          "output_type": "stream",
          "name": "stdout",
          "text": [
            "32.0\n"
          ]
        }
      ]
    }
  ]
}