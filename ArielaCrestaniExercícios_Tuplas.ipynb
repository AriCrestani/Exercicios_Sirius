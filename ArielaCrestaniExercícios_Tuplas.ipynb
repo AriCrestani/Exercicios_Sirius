{
  "cells": [
    {
      "cell_type": "markdown",
      "metadata": {
        "id": "view-in-github",
        "colab_type": "text"
      },
      "source": [
        "<a href=\"https://colab.research.google.com/github/AriCrestani/Exercicios_Sirius/blob/main/ArielaCrestaniExerc%C3%ADcios_Tuplas.ipynb\" target=\"_parent\"><img src=\"https://colab.research.google.com/assets/colab-badge.svg\" alt=\"Open In Colab\"/></a>"
      ]
    },
    {
      "cell_type": "markdown",
      "id": "19749b02",
      "metadata": {
        "id": "19749b02"
      },
      "source": [
        "##### Exercício 1 - Calcule a soma dos elementos da  tupla 'my_tuple'\n"
      ]
    },
    {
      "cell_type": "code",
      "execution_count": null,
      "id": "42e50779",
      "metadata": {
        "id": "42e50779"
      },
      "outputs": [],
      "source": [
        "my_tuple = 1, 2, 3, 4, 5"
      ]
    },
    {
      "cell_type": "code",
      "source": [
        "soma = sum(my_tuple)\n",
        "\n",
        "print(soma)"
      ],
      "metadata": {
        "colab": {
          "base_uri": "https://localhost:8080/"
        },
        "id": "PUyCM4KrB3bu",
        "outputId": "a9c791d7-250e-4638-f8dd-9dfcdc1d13b3"
      },
      "id": "PUyCM4KrB3bu",
      "execution_count": null,
      "outputs": [
        {
          "output_type": "stream",
          "name": "stdout",
          "text": [
            "15\n"
          ]
        }
      ]
    },
    {
      "cell_type": "markdown",
      "id": "afcce53d",
      "metadata": {
        "id": "afcce53d"
      },
      "source": [
        "##### Exercício 2 - Retorne o segundo elemento da tupla 'my_tuple'\n"
      ]
    },
    {
      "cell_type": "code",
      "execution_count": null,
      "id": "4f28cd2a",
      "metadata": {
        "id": "4f28cd2a"
      },
      "outputs": [],
      "source": [
        "my_tuple = 1, 2, 3, 4, 5"
      ]
    },
    {
      "cell_type": "code",
      "source": [
        "my_tuple[1]"
      ],
      "metadata": {
        "colab": {
          "base_uri": "https://localhost:8080/"
        },
        "id": "1zQK1M0oCI0j",
        "outputId": "85035047-00ad-4f11-f9b8-798912a7686c"
      },
      "id": "1zQK1M0oCI0j",
      "execution_count": null,
      "outputs": [
        {
          "output_type": "execute_result",
          "data": {
            "text/plain": [
              "2"
            ]
          },
          "metadata": {},
          "execution_count": 8
        }
      ]
    },
    {
      "cell_type": "markdown",
      "id": "213a9f27",
      "metadata": {
        "id": "213a9f27"
      },
      "source": [
        "##### Exercício 3 - Encontrar o erro no código abaixo"
      ]
    },
    {
      "cell_type": "code",
      "execution_count": null,
      "id": "99c732f3",
      "metadata": {
        "id": "99c732f3",
        "colab": {
          "base_uri": "https://localhost:8080/",
          "height": 211
        },
        "outputId": "67a79d11-7241-4841-ea7b-efd5c4a349d7"
      },
      "outputs": [
        {
          "output_type": "error",
          "ename": "AttributeError",
          "evalue": "'tuple' object has no attribute 'remove'",
          "traceback": [
            "\u001b[0;31m---------------------------------------------------------------------------\u001b[0m",
            "\u001b[0;31mAttributeError\u001b[0m                            Traceback (most recent call last)",
            "\u001b[0;32m<ipython-input-9-ecc2325470ae>\u001b[0m in \u001b[0;36m<cell line: 2>\u001b[0;34m()\u001b[0m\n\u001b[1;32m      1\u001b[0m \u001b[0mmy_tuple\u001b[0m \u001b[0;34m=\u001b[0m \u001b[0;36m1\u001b[0m\u001b[0;34m,\u001b[0m \u001b[0;36m2\u001b[0m\u001b[0;34m,\u001b[0m \u001b[0;36m3\u001b[0m\u001b[0;34m,\u001b[0m \u001b[0;36m4\u001b[0m\u001b[0;34m,\u001b[0m \u001b[0;36m5\u001b[0m\u001b[0;34m\u001b[0m\u001b[0;34m\u001b[0m\u001b[0m\n\u001b[0;32m----> 2\u001b[0;31m \u001b[0mmy_tuple\u001b[0m\u001b[0;34m.\u001b[0m\u001b[0mremove\u001b[0m\u001b[0;34m(\u001b[0m\u001b[0;36m1\u001b[0m\u001b[0;34m)\u001b[0m\u001b[0;34m\u001b[0m\u001b[0;34m\u001b[0m\u001b[0m\n\u001b[0m\u001b[1;32m      3\u001b[0m \u001b[0mprint\u001b[0m\u001b[0;34m(\u001b[0m\u001b[0mmy_tuple\u001b[0m\u001b[0;34m)\u001b[0m\u001b[0;34m\u001b[0m\u001b[0;34m\u001b[0m\u001b[0m\n",
            "\u001b[0;31mAttributeError\u001b[0m: 'tuple' object has no attribute 'remove'"
          ]
        }
      ],
      "source": [
        "my_tuple = 1, 2, 3, 4, 5\n",
        "my_tuple.remove(1)\n",
        "print(my_tuple)"
      ]
    },
    {
      "cell_type": "markdown",
      "source": [
        "O erro acontece, pois a função .remove() não se aplica a tuplas, elas são imutáveis.\n",
        "\n",
        "O que podemos fazer é transformar a tupla em uma lista e então usar a função .remove() para retirar o elemento. E então converter para tupla novamente.\n",
        "\n",
        "Resolução abaixo:"
      ],
      "metadata": {
        "id": "AWn84D_pC19H"
      },
      "id": "AWn84D_pC19H"
    },
    {
      "cell_type": "code",
      "execution_count": null,
      "id": "4d01f5d2",
      "metadata": {
        "id": "4d01f5d2",
        "colab": {
          "base_uri": "https://localhost:8080/"
        },
        "outputId": "37ca4991-838d-4f6d-e713-2981560f96f5"
      },
      "outputs": [
        {
          "output_type": "stream",
          "name": "stdout",
          "text": [
            "(2, 3, 4, 5)\n"
          ]
        }
      ],
      "source": [
        "lista_temporaria = list(my_tuple)\n",
        "\n",
        "lista_temporaria.remove(1)\n",
        "\n",
        "nova_tupla = tuple(lista_temporaria)\n",
        "\n",
        "print(nova_tupla)"
      ]
    }
  ],
  "metadata": {
    "kernelspec": {
      "display_name": "Python 3",
      "language": "python",
      "name": "python3"
    },
    "language_info": {
      "codemirror_mode": {
        "name": "ipython",
        "version": 3
      },
      "file_extension": ".py",
      "mimetype": "text/x-python",
      "name": "python",
      "nbconvert_exporter": "python",
      "pygments_lexer": "ipython3",
      "version": "3.8.8"
    },
    "colab": {
      "provenance": [],
      "include_colab_link": true
    }
  },
  "nbformat": 4,
  "nbformat_minor": 5
}