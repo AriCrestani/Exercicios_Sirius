{
  "cells": [
    {
      "cell_type": "markdown",
      "metadata": {
        "id": "view-in-github",
        "colab_type": "text"
      },
      "source": [
        "<a href=\"https://colab.research.google.com/github/AriCrestani/Exercicios_Sirius/blob/main/ArielaCrestani_Desafio_3__If_else_elif_atual.ipynb\" target=\"_parent\"><img src=\"https://colab.research.google.com/assets/colab-badge.svg\" alt=\"Open In Colab\"/></a>"
      ]
    },
    {
      "cell_type": "markdown",
      "id": "ede87055",
      "metadata": {
        "id": "ede87055"
      },
      "source": [
        "<div>\n",
        "    <p style=\"float: right;\"><img src=\"https://media.swipepages.com/2021/2/sirius-logo-principal-tag-1-300.png\" height=\"80px\"border=\"1px\"></p>\n",
        "    \n",
        "</div>\n",
        "<h1>Nano Desafio 3 </h1>\n",
        "<h2> Desafios </h2>\n",
        "\n",
        "Aluno: Ariela M Crestani\n",
        "\n",
        "Data: 28/01/2024"
      ]
    },
    {
      "cell_type": "markdown",
      "id": "769b477d",
      "metadata": {
        "id": "769b477d"
      },
      "source": [
        "#### Desafio 1 - Sistema ENEM\n",
        "\n",
        "Você foi contratado para criar um sistema para uma Faculdade que leia dados de um candidato e que após avaliar os dados diga se o candidato foi aprovado ou não.\n",
        "\n",
        "Esse sistema deve ler os seguintes dados dos candidatos:\n",
        "\n",
        " - idade(deve ser inteiro)\n",
        " - Nota do Enem - (número real - float)\n",
        " - Brasileiro( variável lógica)\n",
        "\n",
        "Nesses sistema o candidato será aprovado para essa Faculdade se obedecer os critérios abaixo:\n",
        "\n",
        "- menos que 25 anos\n",
        "- nota miníma do ENEM: 70 pontos\n",
        "- ser brasileiro: S se brasileiro e N caso não seja\n",
        "\n",
        "O sistema deve emitir uma mensagem informando se ele foi ou não aprovado."
      ]
    },
    {
      "cell_type": "code",
      "execution_count": null,
      "id": "7e3c3cdc",
      "metadata": {
        "id": "7e3c3cdc"
      },
      "outputs": [],
      "source": [
        "# criando um sistema que receberá os dados inputados do candidato e logo em seguida faz a classificação da candidatura\n",
        "# \"menos do que 25\" adotei a premissa de que a partir de 25 anos já não satisfaz a regra da faculdade\n",
        "\n",
        "def aprovacao():\n",
        "  print(f'Olá, para iniciarmos a avaliação do canditado, por favor nos forneça os dados solicitados com atenção e precisão.')\n",
        "  nome = input(f'Informe o nome completo do candidato: ')\n",
        "  idade = int(input(f'Qual a idade do candidato?: '))\n",
        "  nota = float(input(f'Informe a nota obtida pelo aluno no exame do ENEM: '))\n",
        "  nacionalidade = input(f'O candidato é brasileiro? Digite S caso seja brasileiro ou N caso não seja brasileiro: ')\n",
        "\n",
        "\n",
        "  if (idade < 25) and (nota >= 70) and  (nacionalidade == \"S\"):\n",
        "    print(f' O candidato {nome} está aprovado!')\n",
        "\n",
        "  else:\n",
        "    print(f'O candidato {nome} não foi aprovado!')"
      ]
    },
    {
      "cell_type": "code",
      "source": [
        "aprovacao()"
      ],
      "metadata": {
        "colab": {
          "base_uri": "https://localhost:8080/"
        },
        "id": "p13z9KlzRNEV",
        "outputId": "9ac0dcce-dd28-421c-c4ef-8956bb25c204"
      },
      "id": "p13z9KlzRNEV",
      "execution_count": null,
      "outputs": [
        {
          "output_type": "stream",
          "name": "stdout",
          "text": [
            "Olá, para iniciarmos a avaliação do canditado, por favor nos forneça os dados solicitados com atenção e precisão.\n",
            "Informe o nome completo do candidato: Joao\n",
            "Qual a idade do candidato?: 24\n",
            "Informe a nota obtida pelo aluno no exame do ENEM: 800\n",
            "O candidato é brasileiro? Digite S caso seja brasileiro ou N caso não seja brasileiro: S\n",
            " O candidato Joao está aprovado!\n"
          ]
        }
      ]
    },
    {
      "cell_type": "markdown",
      "id": "468db797",
      "metadata": {
        "id": "468db797"
      },
      "source": [
        "#### Desafio 2 - Mediana"
      ]
    },
    {
      "cell_type": "markdown",
      "id": "366b1861",
      "metadata": {
        "id": "366b1861"
      },
      "source": [
        "Em estatística, a Mediana representa o valor central de um conjunto de dados. Ou seja, dado que os dados estão ordenados a mediana ocupa a 50º posição.\n",
        "Para encontrar o valor da mediana é necessário colocar os valores em ordem crescente.\n",
        "\n",
        "Escreva uma função que receba três números como parâmetros e retorne o valor mediano desses parâmetros como seu resultado.\n",
        "\n",
        "Dica: No caso de três valores, o valor mediano é o valor do meio desses três valores quando eles são ordenados em ordem crescente."
      ]
    },
    {
      "cell_type": "code",
      "source": [
        "# importando o pacote statistics para usar a função .meadian() para detectar a mediana\n",
        "\n",
        "import statistics"
      ],
      "metadata": {
        "id": "y3NdyoM7VFuB"
      },
      "id": "y3NdyoM7VFuB",
      "execution_count": null,
      "outputs": []
    },
    {
      "cell_type": "code",
      "execution_count": null,
      "id": "54698818",
      "metadata": {
        "id": "54698818"
      },
      "outputs": [],
      "source": [
        "# os valores serão solicitados ao usuário e armazenados em tres variáveis\n",
        "# as três variáveis serão armazenadas em uma lista e está será ordenada em ordem crescente\n",
        "\n",
        "def mediana():\n",
        "  num1 = float(input(f'Olá, informe seu primeiro número: '))\n",
        "  num2 = float(input(f'Informe o segundo número: '))\n",
        "  num3= float(input(f'Informe o terceiro número: '))\n",
        "\n",
        "  lista = [num1,num2,num3]\n",
        "  lista.sort()\n",
        "\n",
        "  valor_mediana = statistics.median(lista)\n",
        "  print(f'O valor da mediana para os numéros informados é: {valor_mediana}')"
      ]
    },
    {
      "cell_type": "code",
      "source": [
        "mediana()"
      ],
      "metadata": {
        "colab": {
          "base_uri": "https://localhost:8080/"
        },
        "id": "ZB6tJ840XEK3",
        "outputId": "efbb8dd3-fba2-430b-ab6b-a63403a63da3"
      },
      "id": "ZB6tJ840XEK3",
      "execution_count": null,
      "outputs": [
        {
          "output_type": "stream",
          "name": "stdout",
          "text": [
            "Olá, informe seu primeiro número: 5\n",
            "Informe o segundo número: 6\n",
            "Informe o terceiro número: 9\n",
            "O valor da mediana para os numéros informados é: 6.0\n"
          ]
        }
      ]
    },
    {
      "cell_type": "markdown",
      "id": "05ea1ea9",
      "metadata": {
        "id": "05ea1ea9"
      },
      "source": [
        "#### Desafio 3 - Multiplos\n",
        "Crie uma função que irá checar se um número é múltiplo do outro número.\n",
        "\n",
        "Retorne True caso seja múltiplo e False se não for.\n",
        "\n",
        "Exemplos:\n",
        "\n",
        " - print(multiplo_de(355, 5))\n",
        "\n",
        "True\n",
        "\n",
        "- print(multiplo_de(356, 5))\n",
        "\n",
        "False\n",
        "\n",
        "- print(multiplo_de(2357, 3))\n",
        "\n",
        "False\n",
        "\n",
        "- print(multiplo_de(2358, 3))\n",
        "\n",
        "True"
      ]
    },
    {
      "cell_type": "code",
      "execution_count": null,
      "id": "335a68a3",
      "metadata": {
        "id": "335a68a3"
      },
      "outputs": [],
      "source": [
        "def multiplos(n1,n2):\n",
        "\n",
        "  if n1 % n2 == 0:\n",
        "    print(f'O numero {n1} é múltiplo do número {n2}')\n",
        "\n",
        "  else:\n",
        "        print(f'O numero {n1} não é múltiplo do número {n2}')\n"
      ]
    },
    {
      "cell_type": "code",
      "source": [
        "multiplos(51,17)"
      ],
      "metadata": {
        "colab": {
          "base_uri": "https://localhost:8080/"
        },
        "id": "M8q3WLa8a-hg",
        "outputId": "72be841d-28dd-4f28-aa3f-63256ede6bef"
      },
      "id": "M8q3WLa8a-hg",
      "execution_count": null,
      "outputs": [
        {
          "output_type": "stream",
          "name": "stdout",
          "text": [
            "O numero 51 é múltiplo do número 17\n"
          ]
        }
      ]
    },
    {
      "cell_type": "markdown",
      "id": "8cf550ee",
      "metadata": {
        "id": "8cf550ee"
      },
      "source": [
        "#### Desafio 4 - Soma e limite\n",
        "\n",
        "Escreva uma função que recebe dois números (a e b) como parâmetro e retorna True caso a soma dos dois seja maior que um terceiro parâmetro, chamado limite, caso contrário retorna False."
      ]
    },
    {
      "cell_type": "code",
      "source": [
        "# adotando limite de 45\n",
        "\n",
        "limite = 45\n",
        "\n",
        "def soma_lim(a,b):\n",
        "\n",
        "  if a + b <= limite:\n",
        "    print(f'True')\n",
        "  else:\n",
        "    print(f'False')\n"
      ],
      "metadata": {
        "id": "LwzthqByqkd8"
      },
      "id": "LwzthqByqkd8",
      "execution_count": null,
      "outputs": []
    },
    {
      "cell_type": "code",
      "source": [
        "soma_lim(10,36)"
      ],
      "metadata": {
        "colab": {
          "base_uri": "https://localhost:8080/"
        },
        "id": "r0A0dCqUrXJF",
        "outputId": "40551be3-55e8-4679-f1ef-d3f81895a934"
      },
      "id": "r0A0dCqUrXJF",
      "execution_count": null,
      "outputs": [
        {
          "output_type": "stream",
          "name": "stdout",
          "text": [
            "False\n"
          ]
        }
      ]
    },
    {
      "cell_type": "markdown",
      "id": "b819e8f6",
      "metadata": {
        "id": "b819e8f6"
      },
      "source": [
        "#### Desafio 5 - Celsius e Fahrenheit ( de novo!!! rs)"
      ]
    },
    {
      "cell_type": "markdown",
      "id": "e90407d0",
      "metadata": {
        "id": "e90407d0"
      },
      "source": [
        "\n",
        "Escreva um programa em Python para converter temperaturas de Fahrenheit para Celsius e de Celsius para Fahrenheit.\n",
        "    O usuário deve escrever o número acompanhado da letra f se a entrada for temperatura em Fahrenheit, se a temperatura for em Celsius entrada do usuário será o número acompanhado da letra c\n",
        "\n",
        "A fórmula de conversão de Celsius para Fahrenheit é:\n",
        "\n",
        "\n",
        "C = (5/9) * (F - 32) onde F é a temperatura Fahrenheit.\n",
        "\n",
        "Exemplo:\n",
        "- Para converter de Fahrenheit para Celsius a temperatura de 15:\n",
        "\n",
        "*entrada do usuário: 15F ou 15f*\n",
        "\n",
        "*saida: A temperatura em Celsius é -9 graus*\n",
        "\n",
        "- Para converter de Celsius para Fahrenheit a temperatura de 20:\n",
        "\n",
        "*entrada do usuário: 20C ou 20c*\n",
        "\n",
        "*saida: A temperatura em Fahrenheit é 68 graus*"
      ]
    },
    {
      "cell_type": "code",
      "execution_count": null,
      "id": "c1fc7a04",
      "metadata": {
        "id": "c1fc7a04",
        "colab": {
          "base_uri": "https://localhost:8080/"
        },
        "outputId": "0dfa27eb-f6e7-445e-8da9-2575b1c4bab9"
      },
      "outputs": [
        {
          "output_type": "stream",
          "name": "stdout",
          "text": [
            "Olá! Este é um conversor de temperatura.\n",
            "Para converter de Fahrenheit para Celsius, digite o número seguido pela letra F.\n",
            "Para converter de Celsius para Fahrenheit, digite o número seguido pela letra C.\n",
            "Digite a temperatura seguida da letra: 15.5\n",
            "Valor informado fora do padrão\n"
          ]
        }
      ],
      "source": [
        "def conversor_temp():\n",
        "    print('Olá! Este é um conversor de temperatura.')\n",
        "    print('Para converter de Fahrenheit para Celsius, digite o número seguido pela letra F.')\n",
        "    print('Para converter de Celsius para Fahrenheit, digite o número seguido pela letra C.')\n",
        "\n",
        "    resposta = input('Digite a temperatura seguida da letra: ')\n",
        "\n",
        "\n",
        "# Variável começa vazia e depois recebe os numero extraídos da resposta\n",
        "    numero = \"\"\n",
        "\n",
        "# Variável inicia vazia de depois recece a letra extraída da resposta\n",
        "    letra = \"\"\n",
        "\n",
        "# percorrer a resposta dada e colocar os numeros digitados na variavel número e as letras na variável letra\n",
        "    for char in resposta:\n",
        "        if char.isdigit():\n",
        "            numero += char\n",
        "        else:\n",
        "            letra = char\n",
        "            break\n",
        "\n",
        "# usando .lower() para padronizar caso o usuário use F ou C maiúsculo\n",
        "\n",
        "    if letra.lower() == \"f\":\n",
        "        C = (5 / 9) * (int(numero) - 32)\n",
        "        print(f'{numero} graus Fahrenheit equivalem a {C} graus Celsius')\n",
        "\n",
        "    elif letra.lower() == \"c\":\n",
        "        F = (int(numero) * (9 / 5)) + 32\n",
        "        print(f'{numero} graus Celsius equivalem a {F} graus Fahrenheit')\n",
        "\n",
        "    else:\n",
        "        print('Valor informado fora do padrão')"
      ]
    },
    {
      "cell_type": "code",
      "execution_count": null,
      "id": "1d4cc60b",
      "metadata": {
        "id": "1d4cc60b",
        "colab": {
          "base_uri": "https://localhost:8080/"
        },
        "outputId": "5e2c6116-8332-4dfc-b659-6ee6e309a733"
      },
      "outputs": [
        {
          "output_type": "stream",
          "name": "stdout",
          "text": [
            "Olá! Este é um conversor de temperatura.\n",
            "Para converter de Fahrenheit para Celsius, digite o número seguido pela letra F.\n",
            "Para converter de Celsius para Fahrenheit, digite o número seguido pela letra C.\n",
            "Digite a temperatura seguida da letra: 90C\n",
            "90 graus Celsius equivalem a 194.0 graus Fahrenheit\n"
          ]
        }
      ],
      "source": [
        "conversor_temp()"
      ]
    },
    {
      "cell_type": "markdown",
      "id": "83548a30",
      "metadata": {
        "id": "83548a30"
      },
      "source": [
        "#### Desafio 6\n",
        "\n",
        "\n",
        "Estação do ano, mês e do dia\n",
        "\n",
        "O ano é dividido em quatro estações: primavera, verão, outono (ou outono) e inverno. Usaremos as seguintes datas e perídos para este exercício supondo que você está resolvendo um problema para Portugal:\n",
        "\n",
        "\n",
        "- Primavera: de janeiro até 20 de março\n",
        "- Verão: até 21 de junho\n",
        "- Outono: até 22 de setembro\n",
        "- Inverno: até 21 de dezembro\n",
        "\n",
        "Crie um programa que leia um mês e um dia do usuário. O usuário irá digitar o nome do mês como uma string, seguido pelo dia dentro do mês como um inteiro. Em seguida, seu programa deve exibir a estação do ano associada à data em que foi inserido."
      ]
    },
    {
      "cell_type": "code",
      "execution_count": null,
      "id": "efa218b0",
      "metadata": {
        "id": "efa218b0"
      },
      "outputs": [],
      "source": [
        "# primavera - de 22 de dezembro até 20 de março\n",
        "# verão - 21 de março até 21 junho\n",
        "# outono - 22 de junho até 22 de setembro\n",
        "# inverno - 23 de setembro até 21 de dezembro\n",
        "\n",
        "def estacoes1 ():\n",
        "  print(f'Olá! Para identicar a estação do ano, digite o mês por extenso e o dia que quer consultar.')\n",
        "  mes = input(f'Digite aqui o mês que quer consultar: ')\n",
        "  dia = int(input(f'Digite aqui o dia que quer consultar: '))\n",
        "\n",
        "  if (mes.lower() == \"janeiro\") or (mes.lower() == \"fevereiro\"):\n",
        "    print(f'A estação é Primavera')\n",
        "\n",
        "  elif (mes.lower() == \"março\") and (dia <=20):\n",
        "    print(f'A estação é Primavera ')\n",
        "\n",
        "  elif (mes.lower() == \"março\") and (dia > 20):\n",
        "    print(f'A estação é Verão')\n",
        "\n",
        "  elif (mes.lower() == \"abril\") or (mes.lower() == \"maio\"):\n",
        "    print (f'A estação é Verão')\n",
        "\n",
        "  elif (mes.lower() == \"junho\") and (dia <=21):\n",
        "    print (f'A estação é Verão')\n",
        "\n",
        "  elif (mes.lower() == \"junho\") and (dia >21):\n",
        "    print(f'A estação é Outono')\n",
        "\n",
        "  elif (mes.lower() == \"julho\") and (mes.lower() == \"agosto\"):\n",
        "    print(f'A estação é Outono')\n",
        "\n",
        "  elif (mes.lower() == \"setembro\") and (dia <= 22):\n",
        "    print(f'A estação é Outono')\n",
        "\n",
        "  elif (mes.lower() == \"setembro\") and (dia > 22):\n",
        "    print(f'A estação é Inverno')\n",
        "\n",
        "  elif (mes.lower() == \"outubro\") or (mes.lower() == \"novembro\"):\n",
        "    print(f'A estação é Inverno')\n",
        "\n",
        "  elif (mes.lower() == \"dezembro\") and (dia <= 21):\n",
        "    print(f'A estação é Inverno')\n",
        "\n",
        "  elif (mes.lower() == \"dezembro\") and (dia > 21):\n",
        "    print(f'A estação é Primavera')\n",
        "\n",
        "  else:\n",
        "    print(f'Reeinicie o processo e certifique-se de não ter digitado caracter errado.')\n",
        "\n",
        "\n",
        "\n"
      ]
    },
    {
      "cell_type": "code",
      "source": [
        "estacoes1()"
      ],
      "metadata": {
        "colab": {
          "base_uri": "https://localhost:8080/"
        },
        "id": "-5rK_A7ygylF",
        "outputId": "627d3bda-e4b9-4497-99ae-b070398aa8b5"
      },
      "id": "-5rK_A7ygylF",
      "execution_count": null,
      "outputs": [
        {
          "output_type": "stream",
          "name": "stdout",
          "text": [
            "Olá! Para identicar a estação do ano, digite o mês por extenso e o dia que quer consultar.\n",
            "Digite aqui o mês que quer consultar: fevereiro\n",
            "Digite aqui o dia que quer consultar: 25\n",
            "A estação é Primavera\n"
          ]
        }
      ]
    },
    {
      "cell_type": "markdown",
      "id": "e3388e5c",
      "metadata": {
        "id": "e3388e5c"
      },
      "source": [
        "Esta solução para o problema de identificação da estação usa várias partes elif para que as condições permaneçam o mais simples possível. Outra forma de abordar este problema é diminuir o número de elif, tornando as condições mais complexas."
      ]
    },
    {
      "cell_type": "code",
      "execution_count": null,
      "id": "8096d326",
      "metadata": {
        "id": "8096d326"
      },
      "outputs": [],
      "source": [
        "# vou transformar a resposta de texto (mes) e dia (numero) do usuário em uma data e usá-la como parametro para fazer as faixas das estações\n",
        "# criar um dicionário que associe o nome do mês ao seu dígito de 1 a 12\n",
        "# usar o dia inputado, usar o número do mes e o ano atual para gerar um campo date\n",
        "\n",
        "from datetime import datetime\n",
        "\n",
        "def estacoes2():\n",
        "    print('Olá! Para identificar a estação do ano, digite o mês por extenso e o dia que deseja consultar.')\n",
        "\n",
        "    mes = input('Digite aqui o mês que quer consultar: ')\n",
        "    dia = int(input('Digite aqui o dia que quer consultar: '))\n",
        "\n",
        "    # Dicionário para mapear os nomes dos meses para os números\n",
        "    meses = {\n",
        "        'janeiro': 1,\n",
        "        'fevereiro': 2,\n",
        "        'março': 3,\n",
        "        'abril': 4,\n",
        "        'maio': 5,\n",
        "        'junho': 6,\n",
        "        'julho': 7,\n",
        "        'agosto': 8,\n",
        "        'setembro': 9,\n",
        "        'outubro': 10,\n",
        "        'novembro': 11,\n",
        "        'dezembro': 12\n",
        "    }\n",
        "\n",
        "    # checar se o nome está no dicionário, se estiver, será classificado, se não estiver vai aparecer uma mensagem com erro de digitação\n",
        "    if mes.lower() in meses:\n",
        "        # criando o ano atual\n",
        "        ano_atual = datetime.now().year\n",
        "\n",
        "        # criando a data com o ano atual, numero do mês do dicionario e dia fornecido\n",
        "        data = datetime(ano_atual, meses[mes.lower()], dia)\n",
        "\n",
        "        # condicionais das estações\n",
        "        if datetime(ano_atual, 12, 22) <= data <= datetime(ano_atual+1, 3, 20):\n",
        "            print(' A estação é Primavera')\n",
        "        elif datetime(ano_atual, 3, 21) <= data <= datetime(ano_atual, 6, 21):\n",
        "            print(' A estação é Verão')\n",
        "        elif datetime(ano_atual, 6, 22) <= data <= datetime(ano_atual, 9, 22):\n",
        "            print(' A estação é Outono')\n",
        "        elif datetime(ano_atual, 9, 23) <= data <= datetime(ano_atual, 12, 21):\n",
        "            print(' A estação é Inverno')\n",
        "        else:\n",
        "            print(' A estação é Primavera')\n",
        "    else:\n",
        "        print('Nome do mês inválido. Por favor, forneça um nome de mês válido.')\n"
      ]
    },
    {
      "cell_type": "code",
      "execution_count": null,
      "id": "ccf2265d",
      "metadata": {
        "id": "ccf2265d",
        "colab": {
          "base_uri": "https://localhost:8080/"
        },
        "outputId": "e69ae4e7-8407-4966-eb4a-3a244f07320f"
      },
      "outputs": [
        {
          "output_type": "stream",
          "name": "stdout",
          "text": [
            "Olá! Para identificar a estação do ano, digite o mês por extenso e o dia que deseja consultar.\n",
            "Digite aqui o mês que quer consultar: março\n",
            "Digite aqui o dia que quer consultar: 21\n",
            " A estação é Verão\n"
          ]
        }
      ],
      "source": [
        "estacoes2()"
      ]
    },
    {
      "cell_type": "markdown",
      "id": "4485106f",
      "metadata": {
        "id": "4485106f"
      },
      "source": []
    },
    {
      "cell_type": "markdown",
      "id": "7bdbe2b8",
      "metadata": {
        "id": "7bdbe2b8"
      },
      "source": [
        "\n"
      ]
    },
    {
      "cell_type": "markdown",
      "id": "553a8dbf",
      "metadata": {
        "id": "553a8dbf"
      },
      "source": []
    },
    {
      "cell_type": "code",
      "execution_count": null,
      "id": "7b84e5ab",
      "metadata": {
        "id": "7b84e5ab"
      },
      "outputs": [],
      "source": []
    }
  ],
  "metadata": {
    "hide_input": false,
    "kernelspec": {
      "display_name": "Python 3",
      "language": "python",
      "name": "python3"
    },
    "language_info": {
      "codemirror_mode": {
        "name": "ipython",
        "version": 3
      },
      "file_extension": ".py",
      "mimetype": "text/x-python",
      "name": "python",
      "nbconvert_exporter": "python",
      "pygments_lexer": "ipython3",
      "version": "3.8.8"
    },
    "colab": {
      "provenance": [],
      "include_colab_link": true
    }
  },
  "nbformat": 4,
  "nbformat_minor": 5
}