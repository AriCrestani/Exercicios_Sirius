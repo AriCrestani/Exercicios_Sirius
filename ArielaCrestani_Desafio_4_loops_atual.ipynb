{
  "cells": [
    {
      "cell_type": "markdown",
      "metadata": {
        "id": "view-in-github",
        "colab_type": "text"
      },
      "source": [
        "<a href=\"https://colab.research.google.com/github/AriCrestani/Exercicios_Sirius/blob/main/ArielaCrestani_Desafio_4_loops_atual.ipynb\" target=\"_parent\"><img src=\"https://colab.research.google.com/assets/colab-badge.svg\" alt=\"Open In Colab\"/></a>"
      ]
    },
    {
      "cell_type": "markdown",
      "id": "fd0672f9",
      "metadata": {
        "id": "fd0672f9"
      },
      "source": [
        "<div>\n",
        "    <p style=\"float: right;\"><img src=\"https://media.swipepages.com/2021/2/sirius-logo-principal-tag-1-300.png\" height=\"80px\"border=\"1px\"></p>\n",
        "    \n",
        "</div>\n",
        "<h1>Nano Desafio 4 </h1>\n",
        "<h2> Desafios </h2>\n",
        "\n",
        "Aluno: Ariela M Crestani\n",
        "\n",
        "Data: 03/02/24"
      ]
    },
    {
      "cell_type": "markdown",
      "id": "7501b9f3",
      "metadata": {
        "id": "7501b9f3"
      },
      "source": [
        "##### EXERCÍCIO 1\n",
        "\n",
        "###### Jogo de adivinhação de números\n",
        "\n",
        "Este primeiro exercício apresenta vários tópicos que se repetirão em sua carreira com Python : loops, entrada do usuário, conversão e comparação de valores.\n",
        "\n",
        "Saber como pedir a entrada do usuário não apenas é útil, mas nos permite pensar sobre o tipo de dados que estamos recebendo, como convertê-los em um formato que podemos usar, e qual seria o formato.\n",
        "\n",
        "Como você deve saber, o Python fornece apenas dois tipos de loops: for e while. Saber como escrevê-los e usá-los será muito útil ao longo de sua carreira em Ciência de Dados.\n",
        "O fato de que quase todos os tipos de dados podem ser usados dentro de um loop torna seu uso muito comum. Se você estiver trabalhando com registros de banco de dados, elementos em um XML ou os resultados da pesquisa de texto usando expressões regulares, você será provavelmente usará loops.\n",
        "\n",
        "Para este exercício\n",
        "- Escreva uma função (chute) que não receba argumentos.\n",
        "- Quando executada, a função escolhe um inteiro aleatório entre 0 e 100.\n",
        "- Em seguida, peça ao usuário para adivinhar qual número foi escolhido.\n",
        "- Cada vez que o usuário insere um palpite, o programa indica um dos seguintes:\n",
        "- Muito alto\n",
        "- Muito baixo\n",
        "- Na medida\n",
        "\n",
        "- Se o usuário adivinhar corretamente, o programa é encerrado. Caso contrário, o usuário é solicitado a\n",
        "tentar novamente.\n",
        "- O programa só sai depois que o usuário adivinhar corretamente.\n",
        "\n",
        "\n",
        "Dica - resolva o exercício complementar 2 antes de resolver esse exercício"
      ]
    },
    {
      "cell_type": "code",
      "execution_count": null,
      "id": "40f57806",
      "metadata": {
        "id": "40f57806"
      },
      "outputs": [],
      "source": [
        "\n",
        "# Escreva uma função (chute) que não receba argumentos - ok\n",
        "# Quando executada, a função escolhe um inteiro aleatório entre 0 e 100.\n",
        "    # criar uma lista banco com numeros de 0 a 100\n",
        "    # escolher um dos números do banco usando a função .choice() do pacote random e armazenar em uma variavel chamada \"escolha\"\n",
        "    # solicitar ao usuário que digite um número inteiro e esse será armazenado na variavel \"chute\"\n",
        "# criar um loop que segue verificando se o chute é igual, maior ou menor do que o escolhido\n",
        "    # se os núemros forem iguais, informar por mensagem e encerrar\n",
        "    # se for maior ou menor, informar e seguir pedindo pra informar um chute\n",
        "\n",
        "import random\n",
        "\n",
        "def chute():\n",
        "  lista_banco = list(range(101))\n",
        "  escolha = random.choice(lista_banco)\n",
        "\n",
        "  print('Olá! Você precisa advinhar um número que varia de 0 a 100 e seja inteiro. Vamos lá?')\n",
        "\n",
        "  while True:\n",
        "    chute = int(input(f'Qual o seu chute? '))\n",
        "\n",
        "    if chute == escolha:\n",
        "      print(f'Você acertou!')\n",
        "      break\n",
        "\n",
        "    elif chute > escolha:\n",
        "      print(f'Seu chute {chute} é muito alto!')\n",
        "\n",
        "    else:\n",
        "      print(f'Seu chute {chute} é muito baixo!')"
      ]
    },
    {
      "cell_type": "code",
      "execution_count": null,
      "id": "1e6a3317",
      "metadata": {
        "id": "1e6a3317",
        "outputId": "9fa907e9-a4f9-46e6-e407-374216f4d8e3",
        "colab": {
          "base_uri": "https://localhost:8080/"
        }
      },
      "outputs": [
        {
          "output_type": "stream",
          "name": "stdout",
          "text": [
            "Olá! Você precisa advinhar um número que varia de 0 a 100 e seja inteiro. Vamos lá?\n",
            "Qual o seu chute? 7\n",
            "Seu chute 7 é muito baixo!\n",
            "Qual o seu chute? 89\n",
            "Seu chute 89 é muito alto!\n",
            "Qual o seu chute? 50\n",
            "Seu chute 50 é muito baixo!\n",
            "Qual o seu chute? 70\n",
            "Seu chute 70 é muito baixo!\n",
            "Qual o seu chute? 78\n",
            "Seu chute 78 é muito baixo!\n",
            "Qual o seu chute? 87\n",
            "Seu chute 87 é muito alto!\n",
            "Qual o seu chute? 84\n",
            "Seu chute 84 é muito baixo!\n",
            "Qual o seu chute? 85\n",
            "Seu chute 85 é muito baixo!\n",
            "Qual o seu chute? 86\n",
            "Você acertou!\n"
          ]
        }
      ],
      "source": [
        "chute()"
      ]
    },
    {
      "cell_type": "markdown",
      "id": "e2c79c2b",
      "metadata": {
        "id": "e2c79c2b"
      },
      "source": [
        "##### EXERCÍCIO  2\n",
        "\n",
        "Para este exercício, vamos supor que você corra 10 km por dia como parte de seu regime. Você quer saber quanto tempo, em média, essa corrida leva.\n",
        "\n",
        "Escreva uma função (tempo_de_execucao) que pergunte quanto tempo você levou para correr 10 km.\n",
        "A função continua perguntando quanto tempo (em minutos) levou para execuções adicionais, até que o usuário pressiona Enter. Nesse ponto, a função sai - mas somente depois de calcular e exibindo o tempo médio que as corridas de 10 km levaram.\n",
        "A média das corridas pode ser calculado pela formula: **tempo_total / numero_de_corridas**\n",
        "\n",
        "Por exemplo, veja como seria a saída se o usuário inserisse três dados pontos:"
      ]
    },
    {
      "cell_type": "raw",
      "id": "634ada7e",
      "metadata": {
        "id": "634ada7e"
      },
      "source": [
        "Digite o tempo de corrida de 10 km: 15\n",
        "\n",
        "Digite o tempo de corrida de 10 km: 20\n",
        "\n",
        "Digite o tempo de corrida de 10 km: 10\n",
        "\n",
        "Digite o tempo de corrida de 10 km: <enter>\n",
        "\n",
        "Média de 15,0, nas 3 corridas."
      ]
    },
    {
      "cell_type": "code",
      "execution_count": null,
      "id": "0bd3e603",
      "metadata": {
        "id": "0bd3e603"
      },
      "outputs": [],
      "source": [
        "# corre 10km/dia\n",
        "# quanto tempo, em média, essa corrida demora?\n",
        "  # definir a função\n",
        "  # criar uma lista vazia para armazenar os registros\n",
        "  # criar um loop com while, pois não sei quantas vezes ele vai digitar\n",
        "  # o loop executará enquanto ele estiiver digitando valores e encerra quando apertar enter sem digitar nada (if not variavel de entrada)\n",
        "  # a cada entrada, adicionar o item a lista usando .append(variavel)\n",
        "  # criar a variavel de soma, usando sum(lista)\n",
        "  # criar a variavel de numero de registros usando len(lista)\n",
        "  # criar a variavel que calcula a média (soma/numero)\n",
        "  # imprimir resultados\n",
        "\n",
        "def tempo_de_execucao():\n",
        "  lista_tempos = []\n",
        "\n",
        "  print(f'Olá! vamos descobrir quanto tempo, em média, você leva para fazer sua corrida diária de 10km.\\n'\n",
        "        f'Para isso, precisamos que você digite o tempo que levou para percorrer os 10 km em suas últimas corridas.\\nPressione enter para sair quando terminar'\n",
        "        f'Digite seus tempos em minutos/nVamos lá?')\n",
        "\n",
        "  while True:\n",
        "    tempo= input(f'Quantos minutos levou para percorrer 10km?')\n",
        "\n",
        "    if not tempo:\n",
        "      break\n",
        "\n",
        "    tempo = int(tempo)\n",
        "    lista_tempos.append(tempo)\n",
        "\n",
        "  tempo_total = sum(lista_tempos)\n",
        "  numero_de_corridas = len(lista_tempos)\n",
        "  tempo_medio = tempo_total / numero_de_corridas\n",
        "\n",
        "  print(f'O tempo médio registrado em suas {numero_de_corridas} corridas, foi de {tempo_medio}')"
      ]
    },
    {
      "cell_type": "code",
      "execution_count": null,
      "id": "95cef80e",
      "metadata": {
        "id": "95cef80e",
        "colab": {
          "base_uri": "https://localhost:8080/"
        },
        "outputId": "0af9264f-8b44-48e1-b97c-11df3052f4e8"
      },
      "outputs": [
        {
          "output_type": "stream",
          "name": "stdout",
          "text": [
            "Olá! vamos descobrir quanto tempo, em média, você leva para fazer sua corrida diária de 10km.\n",
            "Para isso, precisamos que você digite o tempo que levou para percorrer os 10 km em suas últimas corridas.\n",
            "Pressione enter para sair quando terminarDigite seus tempos em minutos/nVamos lá?\n",
            "Quantos minutos levou para percorrer 10km?43\n",
            "Quantos minutos levou para percorrer 10km?40\n",
            "Quantos minutos levou para percorrer 10km?38\n",
            "Quantos minutos levou para percorrer 10km?45\n",
            "Quantos minutos levou para percorrer 10km?\n",
            "O tempo médio registrado em suas 4 corridas, foi de 41.5\n"
          ]
        }
      ],
      "source": [
        "tempo_de_execucao()"
      ]
    },
    {
      "cell_type": "markdown",
      "id": "15dc6111",
      "metadata": {
        "id": "15dc6111"
      },
      "source": [
        "##### EXERCÍCIO 3\n",
        "Escreva um programa em Python para contar o número de números pares e ímpares de uma série de números.\n",
        "\n",
        "Exemplo:\n",
        "\n",
        "Entrada: números = (1, 2, 3, 4, 5, 6, 7, 8, 9)\n",
        "\n",
        "Saída esperada:\n",
        "\n",
        "Número de números pares: 4\n",
        "\n",
        "Número de números ímpares: 5"
      ]
    },
    {
      "cell_type": "code",
      "execution_count": null,
      "id": "d41bf6e5",
      "metadata": {
        "id": "d41bf6e5"
      },
      "outputs": [],
      "source": [
        "# criar uma funçãoq ue classifica os número imputados pelo usuário em pares e ímpares e contabiliza q quantidade de cada\n",
        "# criar 3 listas vazias, a que recebe as entradas, a que recebe os pares e a que recebe os ímpares\n",
        "# criar um loop que pede para o usuário inputar um número inteiro ou apertar enter quando quiser finalizar\n",
        "  # solicitar a entrada de dados\n",
        "  # fazer condição para encerar as perguntas caso aperte enter\n",
        "  # transformar o número inputado em int\n",
        "  # adicionar o número na lista vazia usando append()\n",
        "# criar um loop usando for para classificar os numros que existem na lista\n",
        "  # se o número for par (% 2 == 0) adiciona o item na lista par usando append\n",
        "  # se não for par, será adicionado na lista de ímpares\n",
        "# contar quantos itens tem em cada lista usando len()\n",
        "# imprimir resultados\n",
        "\n",
        "def classif():\n",
        "\n",
        "  lista_numeros = []\n",
        "  lista_pares = []\n",
        "  lista_impares = []\n",
        "\n",
        "  while True:\n",
        "    numero = input(f'Digite um número inteiro ou aperte entar para sair: ')\n",
        "\n",
        "    if not numero:\n",
        "      break\n",
        "\n",
        "    numero = int(numero)\n",
        "    lista_numeros.append(numero)\n",
        "\n",
        "  for i in range(len(lista_numeros)):\n",
        "\n",
        "    if lista_numeros[i] % 2 == 0:\n",
        "      lista_pares.append(lista_numeros[i])\n",
        "\n",
        "    else:\n",
        "      lista_impares.append(lista_numeros[i])\n",
        "\n",
        "\n",
        "  n_pares = len(lista_pares)\n",
        "  n_impares = len(lista_impares)\n",
        "\n",
        "  print(f'O quantidade de números pares é: {n_pares} e a quantidade de números ímpares é: {n_impares}')\n",
        "\n"
      ]
    },
    {
      "cell_type": "code",
      "source": [
        "classif()"
      ],
      "metadata": {
        "colab": {
          "base_uri": "https://localhost:8080/"
        },
        "id": "YFPJ6-wowksT",
        "outputId": "85fdf297-f382-4215-c3dd-b59d65f6d140"
      },
      "id": "YFPJ6-wowksT",
      "execution_count": null,
      "outputs": [
        {
          "output_type": "stream",
          "name": "stdout",
          "text": [
            "Digite um número inteiro ou aperte entar para sair: 8\n",
            "Digite um número inteiro ou aperte entar para sair: 9\n",
            "Digite um número inteiro ou aperte entar para sair: 6\n",
            "Digite um número inteiro ou aperte entar para sair: 0\n",
            "Digite um número inteiro ou aperte entar para sair: 8\n",
            "Digite um número inteiro ou aperte entar para sair: \n",
            "O quantidade de números pares é: 4 e a quantidade de números ímpares é: 1\n"
          ]
        }
      ]
    },
    {
      "cell_type": "markdown",
      "id": "5b451e7e",
      "metadata": {
        "id": "5b451e7e"
      },
      "source": [
        "#### EXERCÍCIO 4\n",
        "\n",
        "Escreva um código que retorne a sequência de Fibonacci para uma quantidade de números.\n",
        "\n",
        "Para mais informações sobre o que é a Sequência de Fibonacci: https://pt.wikipedia.org/wiki/Sequ%C3%AAncia_de_Fibonacci\n",
        "\n",
        "Exemplo 1:\n",
        "    \n",
        "Quantos números você quer gerar? 5\n",
        "\n",
        "[1, 1, 2, 3, 5]\n",
        "\n",
        "Exemplo 2:\n",
        "    \n",
        "Quantos números você quer gerar? 10\n",
        "\n",
        "[1, 1, 2, 3, 5, 8, 13, 21, 34, 55]\n",
        "\n",
        "Exemplo 3:\n",
        "\n",
        "Quantos números você quer gerar? 0\n",
        "[]\n",
        "\n",
        "\n"
      ]
    },
    {
      "cell_type": "code",
      "execution_count": null,
      "id": "5b781a54",
      "metadata": {
        "id": "5b781a54"
      },
      "outputs": [],
      "source": [
        "def fibonacci():\n",
        "\n",
        "  lista = [1, 1]\n",
        "\n",
        "  n = int(input(f'Quantos números você quer gerar em sua sequência?'))\n",
        "\n",
        "  for i in range(n):\n",
        "    novo_elemento = lista[-1] + lista[-2]\n",
        "    lista.append(novo_elemento)\n",
        "\n",
        "  print(lista)\n",
        "\n"
      ]
    },
    {
      "cell_type": "code",
      "execution_count": null,
      "id": "0ca0c8ff",
      "metadata": {
        "id": "0ca0c8ff",
        "colab": {
          "base_uri": "https://localhost:8080/"
        },
        "outputId": "15a35313-9185-4ad8-c5b8-f990eb013099"
      },
      "outputs": [
        {
          "output_type": "stream",
          "name": "stdout",
          "text": [
            "Quantos números você quer gerar em sua sequência?6\n",
            "[1, 1, 2, 3, 5, 8, 13, 21]\n"
          ]
        }
      ],
      "source": [
        "fibonacci()"
      ]
    }
  ],
  "metadata": {
    "hide_input": false,
    "kernelspec": {
      "display_name": "Python 3",
      "language": "python",
      "name": "python3"
    },
    "language_info": {
      "codemirror_mode": {
        "name": "ipython",
        "version": 3
      },
      "file_extension": ".py",
      "mimetype": "text/x-python",
      "name": "python",
      "nbconvert_exporter": "python",
      "pygments_lexer": "ipython3",
      "version": "3.8.8"
    },
    "colab": {
      "provenance": [],
      "include_colab_link": true
    }
  },
  "nbformat": 4,
  "nbformat_minor": 5
}