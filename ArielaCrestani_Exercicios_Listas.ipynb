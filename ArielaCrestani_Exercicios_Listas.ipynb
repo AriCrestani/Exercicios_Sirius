{
  "cells": [
    {
      "cell_type": "markdown",
      "metadata": {
        "id": "view-in-github",
        "colab_type": "text"
      },
      "source": [
        "<a href=\"https://colab.research.google.com/github/AriCrestani/Exercicios_Sirius/blob/main/ArielaCrestani_Exercicios_Listas.ipynb\" target=\"_parent\"><img src=\"https://colab.research.google.com/assets/colab-badge.svg\" alt=\"Open In Colab\"/></a>"
      ]
    },
    {
      "cell_type": "markdown",
      "id": "43a6bef2",
      "metadata": {
        "id": "43a6bef2"
      },
      "source": [
        "#### Exercício 1 - Imprima a lista de nomes recebida em ordem alfabética crescente\n",
        "\n",
        "\n"
      ]
    },
    {
      "cell_type": "markdown",
      "source": [
        "Lista de nomes: Rafaela, Patrícia, Matheus, Arnobio, Pedro, Jéssica."
      ],
      "metadata": {
        "id": "ZCZFF8b0s4mm"
      },
      "id": "ZCZFF8b0s4mm"
    },
    {
      "cell_type": "code",
      "execution_count": null,
      "id": "54002069",
      "metadata": {
        "id": "54002069",
        "colab": {
          "base_uri": "https://localhost:8080/"
        },
        "outputId": "4a12fa40-fcb9-4286-8729-7cd4f7f89e9b"
      },
      "outputs": [
        {
          "output_type": "stream",
          "name": "stdout",
          "text": [
            "['Arnobio', 'Jéssica', 'Matheus', 'Patrícia', 'Pedro', 'Rafaela']\n"
          ]
        }
      ],
      "source": [
        "lista_nomes = ['Rafaela', \"Patrícia\", \"Matheus\", \"Arnobio\", \"Pedro\", \"Jéssica\"]\n",
        "\n",
        "lista1 = sorted(lista_nomes)\n",
        "print(lista1)"
      ]
    },
    {
      "cell_type": "markdown",
      "id": "ceffad26",
      "metadata": {
        "id": "ceffad26"
      },
      "source": [
        "#### Exercício 2 - Imprima a lista de nomes recebida em ordem alfabética decrescente\n",
        "  "
      ]
    },
    {
      "cell_type": "code",
      "source": [
        "lista2 = sorted(lista_nomes, reverse=True)\n",
        "print(lista2)"
      ],
      "metadata": {
        "id": "TPxKMrv7tIvp",
        "colab": {
          "base_uri": "https://localhost:8080/"
        },
        "outputId": "5bc6caf3-b02f-46f8-e1b0-d516cd52e87e"
      },
      "id": "TPxKMrv7tIvp",
      "execution_count": null,
      "outputs": [
        {
          "output_type": "stream",
          "name": "stdout",
          "text": [
            "['Rafaela', 'Pedro', 'Patrícia', 'Matheus', 'Jéssica', 'Arnobio']\n"
          ]
        }
      ]
    },
    {
      "cell_type": "markdown",
      "id": "b6165953",
      "metadata": {
        "id": "b6165953"
      },
      "source": [
        "##### Exercício 3 - Imprima o segundo elemento da lista recebida\n",
        "\n",
        "\n"
      ]
    },
    {
      "cell_type": "code",
      "source": [
        "print(lista_nomes[1])"
      ],
      "metadata": {
        "id": "3CRZhU0EhSjD",
        "colab": {
          "base_uri": "https://localhost:8080/"
        },
        "outputId": "9718287a-4b51-4828-9f56-0ae2b1a03935"
      },
      "id": "3CRZhU0EhSjD",
      "execution_count": null,
      "outputs": [
        {
          "output_type": "stream",
          "name": "stdout",
          "text": [
            "Patrícia\n"
          ]
        }
      ]
    },
    {
      "cell_type": "markdown",
      "id": "291e9b4e",
      "metadata": {
        "id": "291e9b4e"
      },
      "source": [
        "##### Exercício 4 - Imprima o último elemento da lista recebida\n",
        "  \n"
      ]
    },
    {
      "cell_type": "code",
      "source": [
        "print(lista_nomes[-1])"
      ],
      "metadata": {
        "id": "HitfnpHghTm-",
        "colab": {
          "base_uri": "https://localhost:8080/"
        },
        "outputId": "f7acb4a1-6611-4c10-e3a9-8f71695d58fc"
      },
      "id": "HitfnpHghTm-",
      "execution_count": null,
      "outputs": [
        {
          "output_type": "stream",
          "name": "stdout",
          "text": [
            "Jéssica\n"
          ]
        }
      ]
    },
    {
      "cell_type": "markdown",
      "id": "c0f1d4d5",
      "metadata": {
        "id": "c0f1d4d5"
      },
      "source": [
        "##### Exercício 5 -  Encontrar o erro no código abaixo\n",
        "Obs: A lista não pode ser modificada\n",
        "\n",
        "\n"
      ]
    },
    {
      "cell_type": "code",
      "execution_count": null,
      "id": "9e12e56b",
      "metadata": {
        "id": "9e12e56b",
        "colab": {
          "base_uri": "https://localhost:8080/",
          "height": 194
        },
        "outputId": "7a5b3ec5-67b4-4368-f0af-f0a0a03a50ba"
      },
      "outputs": [
        {
          "output_type": "error",
          "ename": "IndexError",
          "evalue": "list index out of range",
          "traceback": [
            "\u001b[0;31m---------------------------------------------------------------------------\u001b[0m",
            "\u001b[0;31mIndexError\u001b[0m                                Traceback (most recent call last)",
            "\u001b[0;32m<ipython-input-9-2f6b582502c3>\u001b[0m in \u001b[0;36m<cell line: 2>\u001b[0;34m()\u001b[0m\n\u001b[1;32m      1\u001b[0m \u001b[0mmy_list\u001b[0m \u001b[0;34m=\u001b[0m \u001b[0;34m[\u001b[0m\u001b[0;36m1\u001b[0m\u001b[0;34m,\u001b[0m \u001b[0;36m2\u001b[0m\u001b[0;34m,\u001b[0m \u001b[0;36m3\u001b[0m\u001b[0;34m,\u001b[0m \u001b[0;36m4\u001b[0m\u001b[0;34m,\u001b[0m \u001b[0;36m5\u001b[0m\u001b[0;34m]\u001b[0m\u001b[0;34m\u001b[0m\u001b[0;34m\u001b[0m\u001b[0m\n\u001b[0;32m----> 2\u001b[0;31m \u001b[0mprint\u001b[0m\u001b[0;34m(\u001b[0m\u001b[0mmy_list\u001b[0m\u001b[0;34m[\u001b[0m\u001b[0;36m5\u001b[0m\u001b[0;34m]\u001b[0m\u001b[0;34m)\u001b[0m\u001b[0;34m\u001b[0m\u001b[0;34m\u001b[0m\u001b[0m\n\u001b[0m",
            "\u001b[0;31mIndexError\u001b[0m: list index out of range"
          ]
        }
      ],
      "source": [
        "\n",
        "my_list = [1, 2, 3, 4, 5]\n",
        "print(my_list[5])\n"
      ]
    },
    {
      "cell_type": "markdown",
      "source": [
        "# **RESPOSTA**\n",
        "\n",
        "\n",
        "---\n",
        "\n",
        "\n",
        "\n",
        "A lista não possui um sexto elemento (que corresponderia a posição 5, considerando que o primeiro elemento está na posição 0).\n",
        "\n",
        "Caso queira selecionar o último elemento da lista usar [-1] -- ajuste na próxima célula.\n",
        "\n",
        "Caso queira selecionar o quinto elemento (que nesse caso também vem a ser o último), usar [4] -- ajuste na segunda célula abaixo."
      ],
      "metadata": {
        "id": "h_7sxj2g7RaL"
      },
      "id": "h_7sxj2g7RaL"
    },
    {
      "cell_type": "code",
      "source": [
        "# ajuste 01 - selecionando o último elemento da lista\n",
        "\n",
        "my_list = [1, 2, 3, 4, 5]\n",
        "print(my_list[-1])"
      ],
      "metadata": {
        "colab": {
          "base_uri": "https://localhost:8080/"
        },
        "id": "VfO1Mz1E6f9i",
        "outputId": "8a7149b6-3121-45b3-e0a6-dc51ec38f6ba"
      },
      "id": "VfO1Mz1E6f9i",
      "execution_count": null,
      "outputs": [
        {
          "output_type": "stream",
          "name": "stdout",
          "text": [
            "5\n"
          ]
        }
      ]
    },
    {
      "cell_type": "code",
      "source": [
        "# ajuste 02 - selecionando o quinto elemento\n",
        "\n",
        "my_list = [1, 2, 3, 4, 5]\n",
        "print(my_list[4])"
      ],
      "metadata": {
        "colab": {
          "base_uri": "https://localhost:8080/"
        },
        "id": "ZbN0COyI68Hv",
        "outputId": "ac1cf95d-771a-4182-90ee-219a02242c77"
      },
      "id": "ZbN0COyI68Hv",
      "execution_count": null,
      "outputs": [
        {
          "output_type": "stream",
          "name": "stdout",
          "text": [
            "5\n"
          ]
        }
      ]
    },
    {
      "cell_type": "markdown",
      "id": "5673fce8",
      "metadata": {
        "id": "5673fce8"
      },
      "source": [
        "##### Exercício 6 - Encontrar o erro no código abaixo\n",
        "obs.:my_list não deverá ser modificada\n",
        "\n",
        "Último elemento da lista deverá ser removido\n",
        "  \n",
        "\n"
      ]
    },
    {
      "cell_type": "code",
      "execution_count": null,
      "id": "358901e5",
      "metadata": {
        "id": "358901e5",
        "colab": {
          "base_uri": "https://localhost:8080/",
          "height": 211
        },
        "outputId": "5e620b79-2c8e-4883-d921-684ace856a21"
      },
      "outputs": [
        {
          "output_type": "error",
          "ename": "ValueError",
          "evalue": "list.remove(x): x not in list",
          "traceback": [
            "\u001b[0;31m---------------------------------------------------------------------------\u001b[0m",
            "\u001b[0;31mValueError\u001b[0m                                Traceback (most recent call last)",
            "\u001b[0;32m<ipython-input-13-c2b2dca228c1>\u001b[0m in \u001b[0;36m<cell line: 2>\u001b[0;34m()\u001b[0m\n\u001b[1;32m      1\u001b[0m \u001b[0mmy_list\u001b[0m \u001b[0;34m=\u001b[0m \u001b[0;34m[\u001b[0m\u001b[0;36m1\u001b[0m\u001b[0;34m,\u001b[0m \u001b[0;36m2\u001b[0m\u001b[0;34m,\u001b[0m \u001b[0;36m3\u001b[0m\u001b[0;34m,\u001b[0m \u001b[0;36m4\u001b[0m\u001b[0;34m,\u001b[0m \u001b[0;36m5\u001b[0m\u001b[0;34m]\u001b[0m\u001b[0;34m\u001b[0m\u001b[0;34m\u001b[0m\u001b[0m\n\u001b[0;32m----> 2\u001b[0;31m \u001b[0mmy_list\u001b[0m\u001b[0;34m.\u001b[0m\u001b[0mremove\u001b[0m\u001b[0;34m(\u001b[0m\u001b[0;36m6\u001b[0m\u001b[0;34m)\u001b[0m\u001b[0;34m\u001b[0m\u001b[0;34m\u001b[0m\u001b[0m\n\u001b[0m\u001b[1;32m      3\u001b[0m \u001b[0mprint\u001b[0m\u001b[0;34m(\u001b[0m\u001b[0mmy_list\u001b[0m\u001b[0;34m[\u001b[0m\u001b[0;36m0\u001b[0m\u001b[0;34m]\u001b[0m\u001b[0;34m)\u001b[0m\u001b[0;34m\u001b[0m\u001b[0;34m\u001b[0m\u001b[0m\n",
            "\u001b[0;31mValueError\u001b[0m: list.remove(x): x not in list"
          ]
        }
      ],
      "source": [
        "my_list = [1, 2, 3, 4, 5]\n",
        "my_list.remove(6)\n",
        "print(my_list[0])"
      ]
    },
    {
      "cell_type": "markdown",
      "source": [
        "# **RESPOSTA**\n",
        "\n",
        "\n",
        "---\n",
        "\n",
        "A lista não possui elemento na posição 6, pois ela possui apenas 5 elementos.\n",
        "Para remover o último elemento, usar a função .pop().\n",
        "Além disso ele está printando apenas o primeiro elemento, vou ajustar para printar a lista toda pós-exclusão.\n",
        "\n",
        "Ajustes na célula abaixo."
      ],
      "metadata": {
        "id": "x781fOEG7lao"
      },
      "id": "x781fOEG7lao"
    },
    {
      "cell_type": "code",
      "source": [
        "my_list = [1, 2, 3, 4, 5]\n",
        "my_list.pop()\n",
        "print(my_list)"
      ],
      "metadata": {
        "colab": {
          "base_uri": "https://localhost:8080/"
        },
        "id": "P1-K7zPQ73WX",
        "outputId": "c1651b82-384a-436d-8883-e090c97fb393"
      },
      "id": "P1-K7zPQ73WX",
      "execution_count": null,
      "outputs": [
        {
          "output_type": "stream",
          "name": "stdout",
          "text": [
            "[1, 2, 3, 4]\n"
          ]
        }
      ]
    },
    {
      "cell_type": "markdown",
      "id": "9610c134",
      "metadata": {
        "id": "9610c134"
      },
      "source": [
        "##### Exercício 8  -  Programa Python para trocar os primeiros e últimos elementos em uma lista"
      ]
    },
    {
      "cell_type": "markdown",
      "id": "8175b850",
      "metadata": {
        "id": "8175b850"
      },
      "source": [
        "Dada uma lista, escreva um programa Python para trocar o primeiro e o último elemento da lista."
      ]
    },
    {
      "cell_type": "markdown",
      "source": [
        "\n",
        "Exemplos:\n",
        "```\n",
        "Input : [12, 35, 9, 56, 24],\n",
        "Output : [24, 35, 9, 56, 12],\n",
        "\n",
        "Input : [1, 2, 3],\n",
        "Output : [3, 2, 1]\n",
        "```\n",
        "\n"
      ],
      "metadata": {
        "id": "4pFiEjdhsfHs"
      },
      "id": "4pFiEjdhsfHs"
    },
    {
      "cell_type": "code",
      "execution_count": null,
      "id": "cc1b1b7d",
      "metadata": {
        "id": "cc1b1b7d"
      },
      "outputs": [],
      "source": [
        "import copy\n",
        "\n",
        "def troca():\n",
        "  input = [12, 35, 9, 56, 24]\n",
        "  output = copy.copy(input)\n",
        "\n",
        "\n",
        "  output[0] = input[-1]\n",
        "  output[-1] = input[0]\n",
        "\n",
        "  print(output)"
      ]
    },
    {
      "cell_type": "code",
      "execution_count": null,
      "id": "d649ff2d",
      "metadata": {
        "id": "d649ff2d",
        "colab": {
          "base_uri": "https://localhost:8080/"
        },
        "outputId": "f2f14a95-d805-4383-c8d9-9e00acda1e5a"
      },
      "outputs": [
        {
          "output_type": "stream",
          "name": "stdout",
          "text": [
            "[24, 35, 9, 56, 12]\n"
          ]
        }
      ],
      "source": [
        "troca()"
      ]
    },
    {
      "cell_type": "code",
      "execution_count": null,
      "id": "768b0e08",
      "metadata": {
        "id": "768b0e08"
      },
      "outputs": [],
      "source": [
        "\n",
        "def troca():\n",
        "  input = [1, 2, 3]\n",
        "  output = copy.copy(input)\n",
        "\n",
        "\n",
        "  output[0] = input[-1]\n",
        "  output[-1] = input[0]\n",
        "\n",
        "  print(output)"
      ]
    },
    {
      "cell_type": "code",
      "source": [
        "troca()"
      ],
      "metadata": {
        "colab": {
          "base_uri": "https://localhost:8080/"
        },
        "id": "YWl7XyACApsj",
        "outputId": "60430c33-fc5d-43f6-ac5d-b59e52f2ccfd"
      },
      "id": "YWl7XyACApsj",
      "execution_count": null,
      "outputs": [
        {
          "output_type": "stream",
          "name": "stdout",
          "text": [
            "[3, 2, 1]\n"
          ]
        }
      ]
    }
  ],
  "metadata": {
    "kernelspec": {
      "display_name": "Python 3",
      "language": "python",
      "name": "python3"
    },
    "language_info": {
      "codemirror_mode": {
        "name": "ipython",
        "version": 3
      },
      "file_extension": ".py",
      "mimetype": "text/x-python",
      "name": "python",
      "nbconvert_exporter": "python",
      "pygments_lexer": "ipython3",
      "version": "3.8.8"
    },
    "colab": {
      "provenance": [],
      "include_colab_link": true
    }
  },
  "nbformat": 4,
  "nbformat_minor": 5
}