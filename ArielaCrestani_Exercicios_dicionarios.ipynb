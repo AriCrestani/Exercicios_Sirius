{
  "cells": [
    {
      "cell_type": "markdown",
      "metadata": {
        "id": "view-in-github",
        "colab_type": "text"
      },
      "source": [
        "<a href=\"https://colab.research.google.com/github/AriCrestani/Exercicios_Sirius/blob/main/ArielaCrestani_Exercicios_dicionarios.ipynb\" target=\"_parent\"><img src=\"https://colab.research.google.com/assets/colab-badge.svg\" alt=\"Open In Colab\"/></a>"
      ]
    },
    {
      "cell_type": "markdown",
      "id": "d930e153",
      "metadata": {
        "id": "d930e153"
      },
      "source": [
        "#### Exercício 1 - No dicionário 'my_dict' são armazenados as notas de alunos\n",
        "##### Imprima a nota do aluno 'Júlio'\n"
      ]
    },
    {
      "cell_type": "code",
      "execution_count": null,
      "id": "60889799",
      "metadata": {
        "id": "60889799"
      },
      "outputs": [],
      "source": [
        "my_dict = {\n",
        "    'Ana': 10,\n",
        "    'Júlio': 8,\n",
        "    'Antônio': 9,\n",
        "    'Maria': 7\n",
        "}"
      ]
    },
    {
      "cell_type": "code",
      "source": [
        "# transformar o dicionario em uma lista que armazena todos os seus itens\n",
        "# usar list() e usar .items()\n",
        "\n",
        "lista = list(my_dict.items())\n",
        "\n",
        "print(lista)"
      ],
      "metadata": {
        "colab": {
          "base_uri": "https://localhost:8080/"
        },
        "id": "N6ar71IIL_As",
        "outputId": "efc6ffb9-5851-45cc-c1e1-1404e009c139"
      },
      "id": "N6ar71IIL_As",
      "execution_count": null,
      "outputs": [
        {
          "output_type": "stream",
          "name": "stdout",
          "text": [
            "[('Ana', 10), ('Júlio', 8), ('Antônio', 9), ('Maria', 7)]\n"
          ]
        }
      ]
    },
    {
      "cell_type": "code",
      "source": [
        "# Júlio é o segundo elemento da lista, pedir para imprimir o elemento na posição 1\n",
        "\n",
        "print(lista[1])"
      ],
      "metadata": {
        "colab": {
          "base_uri": "https://localhost:8080/"
        },
        "id": "79LbKuFUMnqC",
        "outputId": "68712bb3-578c-4b4d-d35c-45388d58a32a"
      },
      "id": "79LbKuFUMnqC",
      "execution_count": null,
      "outputs": [
        {
          "output_type": "stream",
          "name": "stdout",
          "text": [
            "('Júlio', 8)\n"
          ]
        }
      ]
    },
    {
      "cell_type": "markdown",
      "id": "f4e448eb",
      "metadata": {
        "id": "f4e448eb"
      },
      "source": [
        "##### Exercício 2 -No dicionário 'my_dict' são armazenados as notas de alunos, mas a aluna 'Ana' faz mais parte da turma\n",
        "##### Imprima my_dict revisada com a exclusão da aluna 'Ana'\n",
        "  "
      ]
    },
    {
      "cell_type": "code",
      "execution_count": null,
      "id": "d7a659a2",
      "metadata": {
        "id": "d7a659a2"
      },
      "outputs": [],
      "source": [
        "my_dict = {\n",
        "    'Ana': 10,\n",
        "    'Júlio': 8,\n",
        "    'Antônio': 9,\n",
        "    'Maria': 7\n",
        "  }"
      ]
    },
    {
      "cell_type": "code",
      "source": [
        "# transformando o dicionário em lista para poder manipular os items\n",
        "# usar list() e .itens()\n",
        "\n",
        "lista = list(my_dict.items())\n",
        "print(lista)"
      ],
      "metadata": {
        "colab": {
          "base_uri": "https://localhost:8080/"
        },
        "id": "r1JuK15iNLOO",
        "outputId": "590acfaa-fbf9-4c96-d11a-2e76d7b8a135"
      },
      "id": "r1JuK15iNLOO",
      "execution_count": null,
      "outputs": [
        {
          "output_type": "stream",
          "name": "stdout",
          "text": [
            "[('Ana', 10), ('Júlio', 8), ('Antônio', 9), ('Maria', 7)]\n"
          ]
        }
      ]
    },
    {
      "cell_type": "code",
      "source": [
        "# usar a função .pop(0) para excluir o primeiro elemento da lista, que vem a ser a Ana.\n",
        "# usar a função dict() para reconventer em dicionário\n",
        "\n",
        "lista.pop(0)\n",
        "\n",
        "my_dict = dict(lista)\n",
        "\n",
        "print(my_dict)"
      ],
      "metadata": {
        "colab": {
          "base_uri": "https://localhost:8080/"
        },
        "id": "h3Lu09PyNS9X",
        "outputId": "58f4745d-9a94-4dd3-f40c-da886ce44852"
      },
      "id": "h3Lu09PyNS9X",
      "execution_count": null,
      "outputs": [
        {
          "output_type": "stream",
          "name": "stdout",
          "text": [
            "{'Júlio': 8, 'Antônio': 9, 'Maria': 7}\n"
          ]
        }
      ]
    },
    {
      "cell_type": "markdown",
      "id": "fdd2155e",
      "metadata": {
        "id": "fdd2155e"
      },
      "source": [
        "##### Exercício 3 - No dicionário 'my_dict' são armazenados as notas de alunos, a aluna 'Carla' acabou de entrar na turma\n",
        "##### Imprima my_dict revisada com a inclusão da aluna 'Carla' e sua nota 0, pois ela ainda fará seus exercícios\n",
        "  "
      ]
    },
    {
      "cell_type": "code",
      "execution_count": null,
      "id": "3d1b7993",
      "metadata": {
        "id": "3d1b7993"
      },
      "outputs": [],
      "source": [
        "my_dict = {\n",
        "    'Ana': 10,\n",
        "    'Júlio': 8,\n",
        "    'Antônio': 9,\n",
        "    'Maria': 7\n",
        "  }"
      ]
    },
    {
      "cell_type": "code",
      "source": [
        "my_dict['Carla'] = 0\n",
        "\n",
        "print(my_dict)"
      ],
      "metadata": {
        "colab": {
          "base_uri": "https://localhost:8080/"
        },
        "id": "Q9G8fUzZP3zX",
        "outputId": "7c3dd827-7bfd-48b1-8688-e040d61cdb2e"
      },
      "id": "Q9G8fUzZP3zX",
      "execution_count": null,
      "outputs": [
        {
          "output_type": "stream",
          "name": "stdout",
          "text": [
            "{'Ana': 10, 'Júlio': 8, 'Antônio': 9, 'Maria': 7, 'Carla': 0}\n"
          ]
        }
      ]
    },
    {
      "cell_type": "markdown",
      "id": "cd437e0d",
      "metadata": {
        "id": "cd437e0d"
      },
      "source": [
        "##### Exercício 4 - Encontrar o erro no código abaixo\n",
        "##### my_dict não deverá ser modificada\n",
        "  "
      ]
    },
    {
      "cell_type": "code",
      "execution_count": null,
      "id": "9f33740d",
      "metadata": {
        "id": "9f33740d",
        "colab": {
          "base_uri": "https://localhost:8080/",
          "height": 211
        },
        "outputId": "ffdf32b6-7230-4fc0-b007-0f8e15c5dabb"
      },
      "outputs": [
        {
          "output_type": "error",
          "ename": "KeyError",
          "evalue": "'Maria José'",
          "traceback": [
            "\u001b[0;31m---------------------------------------------------------------------------\u001b[0m",
            "\u001b[0;31mKeyError\u001b[0m                                  Traceback (most recent call last)",
            "\u001b[0;32m<ipython-input-20-cd2357b7f5b7>\u001b[0m in \u001b[0;36m<cell line: 7>\u001b[0;34m()\u001b[0m\n\u001b[1;32m      5\u001b[0m       \u001b[0;34m'Maria'\u001b[0m\u001b[0;34m:\u001b[0m \u001b[0;36m7\u001b[0m\u001b[0;34m\u001b[0m\u001b[0;34m\u001b[0m\u001b[0m\n\u001b[1;32m      6\u001b[0m     }\n\u001b[0;32m----> 7\u001b[0;31m \u001b[0mprint\u001b[0m\u001b[0;34m(\u001b[0m\u001b[0mmy_dict\u001b[0m\u001b[0;34m[\u001b[0m\u001b[0;34m'Maria José'\u001b[0m\u001b[0;34m]\u001b[0m\u001b[0;34m)\u001b[0m\u001b[0;34m\u001b[0m\u001b[0;34m\u001b[0m\u001b[0m\n\u001b[0m",
            "\u001b[0;31mKeyError\u001b[0m: 'Maria José'"
          ]
        }
      ],
      "source": [
        "my_dict = {\n",
        "      'Ana': 10,\n",
        "      'Júlio': 8,\n",
        "      'Antônio': 9,\n",
        "      'Maria': 7\n",
        "    }\n",
        "print(my_dict['Maria José'])"
      ]
    },
    {
      "cell_type": "markdown",
      "source": [
        "# **Resposta**\n",
        "\n",
        "---\n",
        "\n",
        "O erro acontece, pois a chave solicitada não existe. O mais próximo de \"Maria José\" que existe na lista é o nome \"Maria\". Irei consultar essa chave."
      ],
      "metadata": {
        "id": "RyWXc6ZJQO2I"
      },
      "id": "RyWXc6ZJQO2I"
    },
    {
      "cell_type": "code",
      "execution_count": null,
      "id": "daad97ac",
      "metadata": {
        "id": "daad97ac",
        "colab": {
          "base_uri": "https://localhost:8080/"
        },
        "outputId": "f55d4fb5-abb2-45e2-afea-e6ee11b7f444"
      },
      "outputs": [
        {
          "output_type": "stream",
          "name": "stdout",
          "text": [
            "7\n"
          ]
        }
      ],
      "source": [
        "my_dict = {\n",
        "      'Ana': 10,\n",
        "      'Júlio': 8,\n",
        "      'Antônio': 9,\n",
        "      'Maria': 7\n",
        "    }\n",
        "print(my_dict['Maria'])"
      ]
    }
  ],
  "metadata": {
    "kernelspec": {
      "display_name": "Python 3",
      "language": "python",
      "name": "python3"
    },
    "language_info": {
      "codemirror_mode": {
        "name": "ipython",
        "version": 3
      },
      "file_extension": ".py",
      "mimetype": "text/x-python",
      "name": "python",
      "nbconvert_exporter": "python",
      "pygments_lexer": "ipython3",
      "version": "3.8.8"
    },
    "colab": {
      "provenance": [],
      "include_colab_link": true
    }
  },
  "nbformat": 4,
  "nbformat_minor": 5
}