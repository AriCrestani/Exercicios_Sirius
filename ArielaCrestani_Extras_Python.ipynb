{
  "cells": [
    {
      "cell_type": "markdown",
      "metadata": {
        "id": "view-in-github",
        "colab_type": "text"
      },
      "source": [
        "<a href=\"https://colab.research.google.com/github/AriCrestani/Exercicios_Sirius/blob/main/ArielaCrestani_Extras_Python.ipynb\" target=\"_parent\"><img src=\"https://colab.research.google.com/assets/colab-badge.svg\" alt=\"Open In Colab\"/></a>"
      ]
    },
    {
      "cell_type": "markdown",
      "id": "1678a85e",
      "metadata": {
        "id": "1678a85e"
      },
      "source": [
        "### Extras"
      ]
    },
    {
      "cell_type": "markdown",
      "id": "67239bb7",
      "metadata": {
        "id": "67239bb7"
      },
      "source": [
        "1- Escreva um programa em Python que aceite uma sequência de números separados por vírgulas fornecida pelo usuário e gere uma lista e uma tupla com esses números."
      ]
    },
    {
      "cell_type": "code",
      "source": [
        "# solicitar a sequencia numerica para o usuários\n",
        "# tratar a variavel retirando as virgulas\n",
        "# transformar em lista usando list()\n",
        "# transformar em tupla usando tuple()\n",
        "\n",
        "\n",
        "entrada_de_usuario = input('Digite uma sequência de números separados por vírgulas:     ')\n",
        "\n",
        "entrada_de_usuario = entrada_de_usuario.split(',')\n",
        "\n",
        "sequencia_lista = list(entrada_de_usuario)\n",
        "\n",
        "sequencia_tupla = tuple(entrada_de_usuario)\n",
        "\n",
        "print(sequencia_lista)\n",
        "print(sequencia_tupla)\n",
        "\n"
      ],
      "metadata": {
        "id": "6wQvzsST-2T1",
        "colab": {
          "base_uri": "https://localhost:8080/"
        },
        "outputId": "744c82c5-3505-4cfd-de4e-f1ad43cb6d18"
      },
      "id": "6wQvzsST-2T1",
      "execution_count": null,
      "outputs": [
        {
          "output_type": "stream",
          "name": "stdout",
          "text": [
            "Digite uma sequência de números separados por vírgulas:     3,4,5,67,89\n",
            "['3', '4', '5', '67', '89']\n",
            "('3', '4', '5', '67', '89')\n"
          ]
        }
      ]
    },
    {
      "cell_type": "markdown",
      "id": "e6e5cb10",
      "metadata": {
        "id": "e6e5cb10"
      },
      "source": [
        "2 -Escreva um programa em Python para imprimir o calendário de um determinado mês e ano.\n",
        "\n",
        "Dica: veja a documentação do pacote 'calendar'."
      ]
    },
    {
      "cell_type": "code",
      "source": [
        "# usar o pacote calendar\n",
        "# imprimir o mês de janeiro de 1990\n",
        "\n",
        "import calendar\n",
        "\n",
        "aa = 1990\n",
        "mm = 1\n",
        "print(calendar.month(aa, mm))"
      ],
      "metadata": {
        "id": "7DwF1L2r-4Qz",
        "colab": {
          "base_uri": "https://localhost:8080/"
        },
        "outputId": "6d9c8b51-d3a2-449d-94ec-bb975be666d1"
      },
      "id": "7DwF1L2r-4Qz",
      "execution_count": null,
      "outputs": [
        {
          "output_type": "stream",
          "name": "stdout",
          "text": [
            "    January 1990\n",
            "Mo Tu We Th Fr Sa Su\n",
            " 1  2  3  4  5  6  7\n",
            " 8  9 10 11 12 13 14\n",
            "15 16 17 18 19 20 21\n",
            "22 23 24 25 26 27 28\n",
            "29 30 31\n",
            "\n"
          ]
        }
      ]
    },
    {
      "cell_type": "markdown",
      "id": "c2a19a5c",
      "metadata": {
        "id": "c2a19a5c"
      },
      "source": [
        "3 - Escreva um programa em Python para calcular a distância entre os pontos (x1, y1) e (x2, y2)."
      ]
    },
    {
      "cell_type": "code",
      "source": [
        "# distancia é calcula por meio da raiz quadrada da soma dos quadrados da subtração dos pontos (x com x e y com y)\n",
        "# raiz de {(x2 - x1)2 + (y2 - y1)2}\n",
        "# para tirar a raiz quadrada, vou precisar da biblioteca math para usar a função .sqrt()\n",
        "\n",
        "import math\n",
        "\n",
        "def calc_distancia ():\n",
        "  x1 = float(input(\"Digite a coordenada x1: \"))\n",
        "  y1 = float(input(\"Digite a coordenada y1: \"))\n",
        "  x2 = float(input(\"Digite a coordenada x2: \"))\n",
        "  y2 = float(input(\"Digite a coordenada y2: \"))\n",
        "\n",
        "  distancia = math.sqrt((x2 - x1)**2 + (y2 - y1)**2)\n",
        "\n",
        "  print(f'A distância entre os pontos {x1, y1}  e {x2, y2} é de {distancia}')\n",
        "\n",
        "calc_distancia()"
      ],
      "metadata": {
        "id": "0z4P_O_t-7VC",
        "colab": {
          "base_uri": "https://localhost:8080/"
        },
        "outputId": "ab00bb0c-5ccf-46d1-97f6-859d3e141d90"
      },
      "id": "0z4P_O_t-7VC",
      "execution_count": null,
      "outputs": [
        {
          "output_type": "stream",
          "name": "stdout",
          "text": [
            "Digite a coordenada x1: 2\n",
            "Digite a coordenada y1: 3\n",
            "Digite a coordenada x2: 4\n",
            "Digite a coordenada y2: 6\n",
            "A distância entre os pontos (2.0, 3.0)  e (4.0, 6.0) é de 3.605551275463989\n"
          ]
        }
      ]
    },
    {
      "cell_type": "markdown",
      "id": "e983489b",
      "metadata": {
        "id": "e983489b"
      },
      "source": [
        "4 -Crie um programa que leia três inteiros do usuário e os exiba em ordem (do menor para o maior). Use as funções min e max para encontrar o menor e maiores valores. O valor médio pode ser encontrado calculando a soma de todos os três\n",
        "valores e, em seguida, subtraindo o valor mínimo e o valor máximo"
      ]
    },
    {
      "cell_type": "code",
      "source": [
        "def classificador():\n",
        "\n",
        "  print(f'Olá, digite três números inteiros para que possamos classificá-los')\n",
        "  numero1 = int(input(f'Primeiro número: '))\n",
        "  numero2 = int(input(f'Segundo número: '))\n",
        "  numero3 = int(input(f'Terceiro número: '))\n",
        "  lista_numerica = [numero1,numero2,numero3]\n",
        "  n_max = max(lista_numerica)\n",
        "  n_min = min(lista_numerica)\n",
        "  n_medio = (sum(lista_numerica)) - n_min - n_max\n",
        "\n",
        "  print(f'O número máximo da sua sequência é: {n_max}, o número mínimo é {n_min} e número médio da sua sequência numérica é {n_medio}')\n",
        "\n",
        "classificador()"
      ],
      "metadata": {
        "id": "aivFqO_9-9GM",
        "colab": {
          "base_uri": "https://localhost:8080/"
        },
        "outputId": "4d675d1d-74fa-4bd2-efd1-a28dcabf84cd"
      },
      "id": "aivFqO_9-9GM",
      "execution_count": null,
      "outputs": [
        {
          "output_type": "stream",
          "name": "stdout",
          "text": [
            "Olá, digite três números inteiros para que possamos classificá-los\n",
            "Primeiro número: 4\n",
            "Segundo número: 5\n",
            "Terceiro número: 7\n",
            "O número máximo da sua sequência é: 7, o número mínimo é 4 e a média da sua sequência numérica é 5\n"
          ]
        }
      ]
    },
    {
      "cell_type": "code",
      "execution_count": null,
      "id": "08c7da0a",
      "metadata": {
        "id": "08c7da0a",
        "colab": {
          "base_uri": "https://localhost:8080/"
        },
        "outputId": "16754def-ef25-4e8c-b66e-a8bf856527c8"
      },
      "outputs": [
        {
          "output_type": "stream",
          "name": "stdout",
          "text": [
            "Olá, digite três números inteiros para que possamos classificá-los\n",
            "Primeiro número: 3\n",
            "Segundo número: 4\n",
            "Terceiro número: 5\n",
            "[3, 4, 5]\n"
          ]
        }
      ],
      "source": [
        "print(f'Olá, digite três números inteiros para que possamos classificá-los')\n",
        "numero1 = int(input(f'Primeiro número: '))\n",
        "numero2 = int(input(f'Segundo número: '))\n",
        "numero3 = int(input(f'Terceiro número: '))\n",
        "lista_numerica = [numero1,numero2,numero3]\n",
        "print(lista_numerica)"
      ]
    },
    {
      "cell_type": "code",
      "source": [],
      "metadata": {
        "id": "EdUTGqNx-_qk"
      },
      "id": "EdUTGqNx-_qk",
      "execution_count": null,
      "outputs": []
    }
  ],
  "metadata": {
    "hide_input": false,
    "kernelspec": {
      "display_name": "Python 3",
      "language": "python",
      "name": "python3"
    },
    "language_info": {
      "codemirror_mode": {
        "name": "ipython",
        "version": 3
      },
      "file_extension": ".py",
      "mimetype": "text/x-python",
      "name": "python",
      "nbconvert_exporter": "python",
      "pygments_lexer": "ipython3",
      "version": "3.8.8"
    },
    "colab": {
      "provenance": [],
      "include_colab_link": true
    }
  },
  "nbformat": 4,
  "nbformat_minor": 5
}