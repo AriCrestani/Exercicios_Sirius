{
  "cells": [
    {
      "cell_type": "markdown",
      "metadata": {
        "id": "view-in-github",
        "colab_type": "text"
      },
      "source": [
        "<a href=\"https://colab.research.google.com/github/AriCrestani/Exercicios_Sirius/blob/main/ArielaCrestani_Python_Exercicios_Funcoes_1.ipynb\" target=\"_parent\"><img src=\"https://colab.research.google.com/assets/colab-badge.svg\" alt=\"Open In Colab\"/></a>"
      ]
    },
    {
      "cell_type": "markdown",
      "metadata": {
        "cell_id": "117e6e7a-5905-4ab7-9394-a65721e9b527",
        "deepnote_cell_height": 266.34375,
        "deepnote_cell_type": "markdown",
        "id": "c9BudZ2gNE2n"
      },
      "source": [
        "# Exercício 1\n",
        "\n",
        "Ler uma temperatura em graus Celsius e apresentá-la convertida em graus Fahrenheit. A fórmula de conversão é F = (9 * C + 160) / 5, na qual F é a temperatura em Fahrenheit e C é a temperatura em graus Celsius\n",
        "- Função para ler e retorna o valor da temperatura (não recebe parâmetro)\n",
        "- Função para fazer o cálculo (recebe como parâmetro a temperatura em graus Celsius)\n",
        "- Função para mostrar o resultado, recebendo como parâmetro o valor e fazendo a impressão\n"
      ]
    },
    {
      "cell_type": "code",
      "execution_count": null,
      "metadata": {
        "cell_id": "00001-7b4105aa-fa98-422f-9c5d-2e538f3dc456",
        "deepnote_cell_height": 102,
        "deepnote_cell_type": "code",
        "id": "SVlPSs0oS1XU"
      },
      "outputs": [],
      "source": [
        " # Função para ler e retorna o valor da temperatura (não recebe parâmetro)\n",
        " # definir o nome da função\n",
        " # dar o comando que a função deve executar\n",
        " # retornar o valor/info gerada/coletada pela função\n",
        "\n",
        "def leitura():\n",
        "  celsius = float(input(f'Digite a temperatura em graus Celsius que você quer converter em Farenheit: '))\n",
        "\n",
        "  return celsius\n"
      ]
    },
    {
      "cell_type": "code",
      "execution_count": null,
      "metadata": {
        "cell_id": "00002-084cefe5-25df-4603-b273-d9755954e0cb",
        "deepnote_cell_height": 102,
        "deepnote_cell_type": "code",
        "id": "nG8uZCHWd6z0",
        "colab": {
          "base_uri": "https://localhost:8080/"
        },
        "outputId": "9992e8e1-fee8-4bfc-b69f-8ec0ab31877c"
      },
      "outputs": [
        {
          "name": "stdout",
          "output_type": "stream",
          "text": [
            "Digite a temperatura em graus Celsius que você quer converter em Farenheit: 90\n"
          ]
        }
      ],
      "source": [
        "# Função para fazer o cálculo (recebe como parâmetro a temperatura em graus Celsius)\n",
        "\n",
        "# definir o nome da nova função e atribuir um parametro que ela receberá\n",
        "# dar o comando que ela deve executar (calculo) - passando para o calculo o parametro recebido\n",
        "# retornar o valor do calculo\n",
        "# ao final preciso atribuir o resultado da minha primeira função em uma variavel(celcius) pois ela será passada como parametro para minha segunda função\n",
        "\n",
        "def calculo(temperatura):\n",
        "\n",
        "  farenheit = (9 * temperatura +160)/5\n",
        "\n",
        "  return farenheit\n",
        "\n",
        "\n",
        "celsius = leitura()\n",
        "\n",
        "farenheit = calculo(celsius)"
      ]
    },
    {
      "cell_type": "code",
      "execution_count": null,
      "metadata": {
        "cell_id": "00003-df6105c3-e000-4357-9e61-989a550b3f04",
        "deepnote_cell_height": 84,
        "deepnote_cell_type": "code",
        "id": "byzWkAl0eG3X",
        "colab": {
          "base_uri": "https://localhost:8080/"
        },
        "outputId": "a9ae31df-81e5-468b-f95f-b977e46ad8ee"
      },
      "outputs": [
        {
          "output_type": "stream",
          "name": "stdout",
          "text": [
            " São 194.0 graus Farenheit\n"
          ]
        }
      ],
      "source": [
        "# Função para mostrar o resultado, recebendo como parâmetro o valor e fazendo a impressão\n",
        "\n",
        "def resultado(valor):\n",
        "  print(f' São {valor} graus Farenheit')\n",
        "\n",
        "resultado(farenheit)"
      ]
    },
    {
      "cell_type": "markdown",
      "metadata": {
        "cell_id": "00005-063dd9bf-21aa-41c3-8864-c85ab13e149e",
        "deepnote_cell_height": 381.296875,
        "deepnote_cell_type": "markdown",
        "id": "-44bufKRbeBf"
      },
      "source": [
        "# Exercício 2\n",
        "\n",
        "Efetuar o cálculo da quantidade de litros de combustível gasto em uma viagem, utilizando um automóvel que faz 12 Km por litro. Para obter o cálculo, o usuário deve fornecer o tempo gasto na viagem e a velocidade média durante ela. Desta forma, será possível obter a distância percorrida com a fórmula DISTANCIA = TEMPO * VELOCIDADE. Tendo o valor da distância, basta calcular a quantidade de litros de combustível utilizada na viagem, com a fórmula: LITROS_USADOS = DISTANCIA / 12. O programa deve apresentar os valores da velocidade média, tempo gasto na viagem, a distância percorrida e a quantidade de litros utilizada na viagem\n",
        "- Função para ler os valores (não recebe parâmetro e retorna os dois valores)\n",
        "- Função para calcular a distância (recebe como parâmetro o tempo e a velocidade e retorna a distância)\n",
        "- Função para calcular a quantidade de litros (recebe como parâmetro a distância e retorna os litros)\n",
        "- Função para apresentar o resultado (recebe como parâmetro os valores e somente imprime o resultado)"
      ]
    },
    {
      "cell_type": "code",
      "execution_count": null,
      "metadata": {
        "cell_id": "00006-718a04d8-0861-4efd-b128-b45e297ed927",
        "deepnote_cell_height": 120,
        "deepnote_cell_type": "code",
        "id": "GxlRNd_meyJA"
      },
      "outputs": [],
      "source": [
        "# redimento: 12km/L\n",
        "# tempo ?\n",
        "# velocidade média ?\n",
        "# obter a distancia percorrida (tempo * velocidade)\n",
        "# calcular os litros_usados (distancia/12)\n",
        "# apresentar velocidade média, tempo gasto na viagem, distancia percorrida e litros usados"
      ]
    },
    {
      "cell_type": "code",
      "execution_count": null,
      "metadata": {
        "cell_id": "00007-c4686be2-c49a-4ea2-94f6-e377b6b49d21",
        "deepnote_cell_height": 84,
        "deepnote_cell_type": "code",
        "id": "GqJx1tabfWhA"
      },
      "outputs": [],
      "source": [
        "#Função para ler os valores (não recebe parâmetro e retorna os dois valores)\n",
        "\n",
        "def coleta():\n",
        "  print(f'Olá, vamos calcular o quanto de combustível você utilizou em sua viagem.Para isso, responda:')\n",
        "\n",
        "  tempo = int(input(f'Quanto tempo durou sua viagem (em horas)?'))\n",
        "  v_media = int(input(f'Qual sua velocidade média (informar apenas o número)?'))\n",
        "\n",
        "  return tempo, v_media\n"
      ]
    },
    {
      "cell_type": "code",
      "execution_count": null,
      "metadata": {
        "cell_id": "00010-426f4299-e7ff-4fb3-8862-63aee1818bf1",
        "deepnote_cell_height": 267.125,
        "deepnote_cell_type": "code",
        "id": "bOEk5jeAfmXL",
        "colab": {
          "base_uri": "https://localhost:8080/"
        },
        "outputId": "e0b502a6-a487-4779-f494-7d2a89a68c58"
      },
      "outputs": [
        {
          "output_type": "stream",
          "name": "stdout",
          "text": [
            "Olá, vamos calcular o quanto de combustível você utilizou em sua viagem.Para isso, responda:\n",
            "Quanto tempo durou sua viagem (em horas)?90\n",
            "Qual sua velocidade média (informar apenas o número)?100\n",
            "A distância percorrida é: 9000\n"
          ]
        }
      ],
      "source": [
        "# obter a distancia percorrida (tempo * velocidade)\n",
        "\n",
        "\n",
        "def calculo_dist(a, b):\n",
        "    distancia = a * b\n",
        "    return distancia\n",
        "\n",
        "tempo_viagem, velocidade_media = coleta()\n",
        "\n",
        "resultado = calculo_dist(tempo_viagem, velocidade_media)\n",
        "\n",
        "print(f'A distância percorrida é: {resultado}')\n"
      ]
    },
    {
      "cell_type": "code",
      "source": [
        "def consumo(a):\n",
        "  consumo = a/12\n",
        "  return consumo\n",
        "\n",
        "resultado = calculo_dist(tempo_viagem, velocidade_media)\n",
        "consumo = consumo(resultado)\n",
        "print(consumo)"
      ],
      "metadata": {
        "colab": {
          "base_uri": "https://localhost:8080/"
        },
        "id": "3I6D6kyELq1A",
        "outputId": "1ccb589e-611e-4726-99bb-3a2fb1c8ab22"
      },
      "execution_count": null,
      "outputs": [
        {
          "output_type": "stream",
          "name": "stdout",
          "text": [
            "750.0\n"
          ]
        }
      ]
    },
    {
      "cell_type": "code",
      "source": [
        "def resumo():\n",
        "  print(f' Você percorreu {resultado} km em uma viagem de {tempo_viagem} horas a uma velocidade média de {velocidade_media}. Que gerou consumo de {consumo} litros')\n",
        "\n",
        "resumo()"
      ],
      "metadata": {
        "colab": {
          "base_uri": "https://localhost:8080/"
        },
        "id": "AOyCyDHmM29z",
        "outputId": "d7211e7c-69c0-43e9-c753-fbf27f41529f"
      },
      "execution_count": null,
      "outputs": [
        {
          "output_type": "stream",
          "name": "stdout",
          "text": [
            " Você percorreu 9000 km em uma viagem de 90 horas a uma velocidade média de 100. Que gerou consumo de 750.0 litros\n"
          ]
        }
      ]
    }
  ],
  "metadata": {
    "colab": {
      "provenance": [],
      "include_colab_link": true
    },
    "deepnote": {},
    "deepnote_execution_queue": [],
    "deepnote_notebook_id": "8b05a228-d6f1-4b29-94b8-71bd3cd8fc44",
    "kernelspec": {
      "display_name": "Python 3",
      "language": "python",
      "name": "python3"
    },
    "language_info": {
      "codemirror_mode": {
        "name": "ipython",
        "version": 3
      },
      "file_extension": ".py",
      "mimetype": "text/x-python",
      "name": "python",
      "nbconvert_exporter": "python",
      "pygments_lexer": "ipython3",
      "version": "3.8.8"
    }
  },
  "nbformat": 4,
  "nbformat_minor": 0
}