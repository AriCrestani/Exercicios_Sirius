{
  "cells": [
    {
      "cell_type": "markdown",
      "metadata": {
        "id": "view-in-github",
        "colab_type": "text"
      },
      "source": [
        "<a href=\"https://colab.research.google.com/github/AriCrestani/Exercicios_Sirius/blob/main/ArielaCrestani_Python_Exerc%C3%ADcios_Estruturas_Repeti%C3%A7%C3%A3o.ipynb\" target=\"_parent\"><img src=\"https://colab.research.google.com/assets/colab-badge.svg\" alt=\"Open In Colab\"/></a>"
      ]
    },
    {
      "cell_type": "markdown",
      "metadata": {
        "cell_id": "0ba0928c-d1b2-4f9d-ab40-cbab13fd9ba4",
        "deepnote_cell_height": 120.390625,
        "deepnote_cell_type": "markdown",
        "id": "c9BudZ2gNE2n"
      },
      "source": [
        "### Exercício 1\n",
        "\n",
        "\n",
        "Ler 5 notas e informar a média usando loop for\n"
      ]
    },
    {
      "cell_type": "markdown",
      "metadata": {
        "cell_id": "00001-36235c6a-b9b4-4917-8d2d-b40868f972db",
        "deepnote_cell_height": 70,
        "deepnote_cell_type": "markdown",
        "id": "RFJ-2UWJSviN"
      },
      "source": []
    },
    {
      "cell_type": "code",
      "execution_count": null,
      "metadata": {
        "cell_id": "00002-d047fd2a-7b3c-456c-b276-a35c60357706",
        "deepnote_cell_height": 66,
        "deepnote_cell_type": "code",
        "id": "SVlPSs0oS1XU",
        "colab": {
          "base_uri": "https://localhost:8080/"
        },
        "outputId": "503e6269-a35a-45f4-eb9f-28e2a43116d3"
      },
      "outputs": [
        {
          "output_type": "stream",
          "name": "stdout",
          "text": [
            "A média das notas [7, 9, 3, 2, 1] é: 4.4\n"
          ]
        }
      ],
      "source": [
        "# criar uma lista com 5 notas\n",
        "# criar a variavel de soma de notas com 0 atribuído\n",
        "# somar as notas usando +=\n",
        "# usar o comprimento da lista para calcular a média\n",
        "\n",
        "lista_notas = [7,9,3,2,1]\n",
        "soma_notas = 0\n",
        "\n",
        "for nota in lista_notas:\n",
        "  soma_notas += nota\n",
        "\n",
        "n = len(lista_notas)\n",
        "media = soma_notas / n\n",
        "\n",
        "print(f'A média das notas {lista_notas} é: {media}')"
      ]
    },
    {
      "cell_type": "code",
      "execution_count": null,
      "metadata": {
        "cell_id": "00006-b30d7e57-3da4-4f91-98f6-bc8b0d6b84ff",
        "deepnote_cell_height": 130.1875,
        "deepnote_cell_type": "code",
        "id": "EfSe5EF6bYCA"
      },
      "outputs": [],
      "source": []
    },
    {
      "cell_type": "markdown",
      "metadata": {
        "cell_id": "00007-ee4363c8-7047-4493-ac9c-e418764cfe48",
        "deepnote_cell_height": 70,
        "deepnote_cell_type": "markdown",
        "id": "-44bufKRbeBf"
      },
      "source": [
        "### Exercício 2\n",
        "Ler 5 notas e informar a média usando loop while"
      ]
    },
    {
      "cell_type": "code",
      "execution_count": null,
      "metadata": {
        "cell_id": "00008-74390165-401c-4cb6-ac14-a69650f96b13",
        "deepnote_cell_height": 321.125,
        "deepnote_cell_type": "code",
        "id": "5O23ONtfbf9w",
        "colab": {
          "base_uri": "https://localhost:8080/"
        },
        "outputId": "c3426a7d-90d1-42bc-d286-d27dbda4b768"
      },
      "outputs": [
        {
          "output_type": "stream",
          "name": "stdout",
          "text": [
            "A média das notas [7, 9, 3, 2, 1] é: 4.4\n"
          ]
        }
      ],
      "source": [
        "# criar a lista de notas\n",
        "# criar a variavel com a soma de notas zerada\n",
        "\n",
        "# criar uma variável de índice que irá percorrer os elementos da lista, ele deve começar zerado\n",
        "# criar o loop que irá rodar enquanto o indice/elemento estiver\n",
        "\n",
        "lista_notas = [7,9,3,2,1]\n",
        "soma_notas = 0\n",
        "\n",
        "elemento = 0\n",
        "\n",
        "while elemento < len(lista_notas):\n",
        "    soma_notas += lista_notas[elemento]\n",
        "\n",
        "    # Incrementando o índice\n",
        "    elemento += 1\n",
        "\n",
        "n = len(lista_notas)\n",
        "media = soma_notas / n\n",
        "\n",
        "print(f'A média das notas {lista_notas} é: {media}')\n",
        "\n"
      ]
    },
    {
      "cell_type": "markdown",
      "metadata": {
        "cell_id": "00009-9d68c25a-f497-47a9-bb91-44caf051eedd",
        "deepnote_cell_height": 120.390625,
        "deepnote_cell_type": "markdown",
        "id": "QK3YAlgdN0t3"
      },
      "source": [
        "### Exercício 3\n",
        "\n",
        "Imprimir a tabuada do número 3 (3 x 1 = 1 - 3 x 10 = 30) usando loop for"
      ]
    },
    {
      "cell_type": "markdown",
      "metadata": {
        "cell_id": "00010-1ddbe34b-1125-4ba0-98a5-edb333d9253a",
        "deepnote_cell_height": 70,
        "deepnote_cell_type": "markdown",
        "id": "DgR_HhoqcKlH"
      },
      "source": []
    },
    {
      "cell_type": "code",
      "execution_count": null,
      "metadata": {
        "cell_id": "00011-7205360c-0bb7-4a1a-bd5b-78096d9361e0",
        "deepnote_cell_height": 311.875,
        "deepnote_cell_type": "code",
        "id": "17IiwQLVcKM1",
        "colab": {
          "base_uri": "https://localhost:8080/"
        },
        "outputId": "00084cff-68a0-4097-9001-68440dde0a4b"
      },
      "outputs": [
        {
          "output_type": "stream",
          "name": "stdout",
          "text": [
            "3 x 1 = 3\n",
            "3 x 2 = 6\n",
            "3 x 3 = 9\n",
            "3 x 4 = 12\n",
            "3 x 5 = 15\n",
            "3 x 6 = 18\n",
            "3 x 7 = 21\n",
            "3 x 8 = 24\n",
            "3 x 9 = 27\n",
            "3 x 10 = 30\n"
          ]
        }
      ],
      "source": [
        "lista_numeros = list(range(1, 11))\n",
        "\n",
        "numero = 3\n",
        "\n",
        "for item in lista_numeros:\n",
        "  resultado = numero * item\n",
        "  print(f'{numero} x {item} = {resultado}')"
      ]
    },
    {
      "cell_type": "markdown",
      "metadata": {
        "cell_id": "00012-d40bfddf-e7db-4e21-bba1-890eb96a8f9b",
        "deepnote_cell_height": 122,
        "deepnote_cell_type": "markdown",
        "id": "7HRSb00ycuip"
      },
      "source": [
        "### Exercício 4\n",
        "\n",
        "Imprimir a tabuada do número 3 (3 x 1 = 1 - 3 x 10 = 30) usando loop while"
      ]
    },
    {
      "cell_type": "code",
      "execution_count": null,
      "metadata": {
        "cell_id": "00013-75c0e365-8cc7-49ea-b627-26dbe03fa91d",
        "deepnote_cell_height": 347.875,
        "deepnote_cell_type": "code",
        "id": "rR51zPtEcuKg",
        "owner_user_id": "d001098f-5dea-4d4f-8c97-a79374dcf058",
        "colab": {
          "base_uri": "https://localhost:8080/"
        },
        "outputId": "0588f97e-887f-4f9c-cab2-6b26b20a0e2b"
      },
      "outputs": [
        {
          "output_type": "stream",
          "name": "stdout",
          "text": [
            "3 x 1 = 3\n",
            "3 x 2 = 6\n",
            "3 x 3 = 9\n",
            "3 x 4 = 12\n",
            "3 x 5 = 15\n",
            "3 x 6 = 18\n",
            "3 x 7 = 21\n",
            "3 x 8 = 24\n",
            "3 x 9 = 27\n",
            "3 x 10 = 30\n"
          ]
        }
      ],
      "source": [
        "lista_numeros = list(range(1, 11))\n",
        "numero = 3\n",
        "resultado = 0\n",
        "item = 0\n",
        "\n",
        "while item < len(lista_numeros):\n",
        "    resultado = numero * lista_numeros[item]\n",
        "    item += 1  # Não esqueça de incrementar o valor de item\n",
        "    print(f'{numero} x {item} = {resultado}')"
      ]
    }
  ],
  "metadata": {
    "colab": {
      "provenance": [],
      "include_colab_link": true
    },
    "deepnote": {},
    "deepnote_execution_queue": [],
    "deepnote_notebook_id": "9d4b2e7f-1771-470b-a7a8-9ff92629f997",
    "kernelspec": {
      "display_name": "Python 3",
      "language": "python",
      "name": "python3"
    },
    "language_info": {
      "codemirror_mode": {
        "name": "ipython",
        "version": 3
      },
      "file_extension": ".py",
      "mimetype": "text/x-python",
      "name": "python",
      "nbconvert_exporter": "python",
      "pygments_lexer": "ipython3",
      "version": "3.8.8"
    }
  },
  "nbformat": 4,
  "nbformat_minor": 0
}