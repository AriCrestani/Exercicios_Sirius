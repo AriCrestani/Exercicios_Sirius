{
  "nbformat": 4,
  "nbformat_minor": 0,
  "metadata": {
    "colab": {
      "provenance": [],
      "include_colab_link": true
    },
    "kernelspec": {
      "name": "python3",
      "display_name": "Python 3"
    },
    "language_info": {
      "name": "python"
    }
  },
  "cells": [
    {
      "cell_type": "markdown",
      "metadata": {
        "id": "view-in-github",
        "colab_type": "text"
      },
      "source": [
        "<a href=\"https://colab.research.google.com/github/AriCrestani/Exercicios_Sirius/blob/main/ArielaCrestani_Exerc%C3%ADcios_Introducao_Python.ipynb\" target=\"_parent\"><img src=\"https://colab.research.google.com/assets/colab-badge.svg\" alt=\"Open In Colab\"/></a>"
      ]
    },
    {
      "cell_type": "markdown",
      "source": [
        "# Exercícios de Lógica de Programação em Python"
      ],
      "metadata": {
        "id": "W6TJJ9VHQKUH"
      }
    },
    {
      "cell_type": "markdown",
      "source": [
        "## Exercício 1 (Aquecimento): Vamos criar uma calculadora (simples) com as operações soma, subtração, multiplicação, divisão.\n",
        "\n",
        "Dica: crie funções para tarefas específicas como, por exemplo, uma função `soma(a,b)`, uma função `subtracao(a,b)`, ... e depois use estas funções para criar a função `calculadora()`.\n",
        "\n",
        "Lembre-se de que não se pode dividir por zero."
      ],
      "metadata": {
        "id": "Ibj7Joj9QdwL"
      }
    },
    {
      "cell_type": "code",
      "execution_count": null,
      "metadata": {
        "id": "0ER-YTL8QEWm"
      },
      "outputs": [],
      "source": [
        "# 1 - Criar funções específicas para cada operação matemática\n",
        "# A ideia é que a pessoa digite dois números e façamos os cálculos sobre estes, por isso cada função deve receber dois elementos (a,b)\n",
        "# cada um desses elemento receberá o número do usuário digitado pelo usuário: a receberá o primeiro e b receberá o segundo\n",
        "# Montar o cálculo com os operadores matemáticos e colocá-los dentro d eum print, para que o usuário possa ver o resultado\n",
        "\n",
        "# def operacao(a,b)\n",
        "# print(operação matemática desejada)\n",
        "\n",
        "def soma(a,b):\n",
        "  print(a+b)\n",
        "\n",
        "def subtracao(a,b):\n",
        "  print(a-b)\n",
        "\n",
        "def multiplicacao(a,b):\n",
        "  print(a*b)\n",
        "\n",
        "def divisao(a,b):\n",
        "  print(a/b)"
      ]
    },
    {
      "cell_type": "code",
      "source": [
        "# vamos criar uma nova função para operar a calculadora a ideia é que a calculadora siga ativa enquanto o usuário quiser fazer calculos\n",
        "# por isso precisamos definir um loop de execução usando while\n",
        "# definiremos a variável i como 0 e enquanto ela for 0 a calculadora estará aberta para execução e executará a variável j que abre o menu\n",
        "# no menu teremos 5 opções: soma, subtração, multiplicacao, divisão e encerrar\n",
        "# vamos atribuir números a cada opção de calculo e pedir que o usuario digite o numero para o calculo que tem interesse\n",
        "# 1: soma, 2: subtração, 3: multiplicacao, 4: divisão, 5: encerra calculadora\n",
        "# quando digitar 1 a 4 pediremos para inputar seus números e cada numero chamará sua função correspondente\n",
        "# quando digitar 5 o codigo para\n",
        "\n",
        "\n",
        "def calculadora():\n",
        "  i = 0\n",
        "  while i == 0:\n",
        "    j = int(input('''Escolha o número da operação a ser realizada:\n",
        "    1) soma\n",
        "    2) subtração\n",
        "    3) multiplicação\n",
        "    4) divisão\n",
        "    5) encerrar calculadora\\n'''))\n",
        "\n",
        "    if j == 5:\n",
        "      print('Encerrando calculadora.')\n",
        "      break\n",
        "\n",
        "    elif j >5:\n",
        "      print('Opção não válida!')\n",
        "      break\n",
        "\n",
        "    a = float(input(f'Digite aqui seu primeiro número: '))\n",
        "    b = float(input(f'Digite aqui seu segundo número: '))\n",
        "\n",
        "    if j == 1:\n",
        "     print(f'Escolhida opção de soma. O total é: ')\n",
        "     soma(a,b)\n",
        "\n",
        "    elif j == 2:\n",
        "     print(f'Escolhida opção de subtração. O total é: ')\n",
        "     subtracao(a,b)\n",
        "\n",
        "    elif j == 3:\n",
        "     print(f'Escolhida opção de multiplicação. O total é: ')\n",
        "     multiplicacao(a,b)\n",
        "\n",
        "    elif j == 4:\n",
        "      if b == 0:\n",
        "        print(\"Não é possível dividir por zero.\")\n",
        "      else:\n",
        "        print(f'Escolhida opção de divisão. O total é: ')\n",
        "        divisao(a,b)\n",
        "\n",
        "    else:\n",
        "      print(\"Encerrando calculadora\")"
      ],
      "metadata": {
        "id": "qENPYxkQQSuc"
      },
      "execution_count": null,
      "outputs": []
    },
    {
      "cell_type": "code",
      "source": [
        "calculadora()"
      ],
      "metadata": {
        "colab": {
          "base_uri": "https://localhost:8080/"
        },
        "id": "q1CPFs1bQSe7",
        "outputId": "70207fbc-a5ac-4773-cb10-4b6b5f282170"
      },
      "execution_count": null,
      "outputs": [
        {
          "output_type": "stream",
          "name": "stdout",
          "text": [
            "Escolha o número da operação a ser realizada:\n",
            "    1) soma\n",
            "    2) subtração\n",
            "    3) multiplicação\n",
            "    4) divisão\n",
            "    5) encerrar calculadora\n",
            "5\n",
            "Encerrando calculadora.\n"
          ]
        }
      ]
    },
    {
      "cell_type": "markdown",
      "source": [
        "### Exercício 2: Em um curso da Sirius temos alunos dos mais variados perfis, tendo diferentes faixas etárias, morando em diferentes estados do Brasil e que tiraram diferentes notas. Essas informações estão em diferentes listas, uma somente com os nomes, outras somente com as notas, outra com a idades e outro com os estados de residência.\n",
        "\n",
        "Com base nisso crie funções que ajudem a responder as perguntas considerando os dados a seguir."
      ],
      "metadata": {
        "id": "QQZ2bBqeYOmu"
      }
    },
    {
      "cell_type": "code",
      "source": [
        "# dados\n",
        "nomes = ['João', 'José', 'Fernando', 'Rafaela', 'Kleber', 'Laercio', 'Carlos','Paula','Adriana','Walkyria','Guilherme','Gustavo','Gabriel', 'Mayara', 'Ana', 'Daniela', 'Rafael', 'Daiane', 'Maria', 'Mateus', 'Monique', 'Brian', 'Henrique', 'Alberto', 'Mônica', 'Bruce', 'Simone']\n",
        "notas = [8,7,6,9,3,8,7,5,9,1,4,5,8,4,9,7,5,6,2,7,4,5,8,7,9,10,5]\n",
        "idades = [25,17,56,32,27,31,48,24,41,50,29,22,30,31,28,52,27,33,35,36,38,26,29,35,38,41,46]\n",
        "estados = ['PR','SP','SP','MG','RJ','MG','PB','AM','SC','MS','SP','MG','AM','RO','MG','BA','MG','ES','CE','MG','PA','PI','PE','MG','RR','MG','SE']"
      ],
      "metadata": {
        "id": "_jyuP-rnQSdt"
      },
      "execution_count": null,
      "outputs": []
    },
    {
      "cell_type": "markdown",
      "source": [
        "#### 1) Crie uma função que seleciona o nome de todas as pessoas que residem em um determinado estado. Por exemplo, a função `alunos_por_estado(nomes, estados, 'SP')` deve retornar todos os nomes dos alunos que moram em São Paulo."
      ],
      "metadata": {
        "id": "4RcD29Dqcjnt"
      }
    },
    {
      "cell_type": "code",
      "source": [
        "# aqui estamos definindo uma função chamada alunos_por_estado que tem como argumentos 3 elementos:\n",
        "# lista_nomes, lista_estados, estado\n",
        "# essa função vai iterar sobre a lista de estado, ele irá procura o primeiro elemento da lista estado que contena o estado que será escolhido\n",
        "# no próxima célula quando executar a função colocando como estado escolhido \"SP\", ele iráprocurar a primeira posição da lista onde isso aparece\n",
        "# e seguirá fazendo isso até o final da lista. Para cada elemento que ele encontrar na lista de estados, irá buscar o elemento\n",
        "# correspondente na lista de nomes, garantindo que estejamos puxando dados corretos\n",
        "# no final ele retorna duas listas: os nomes e os estados correspondentes\n",
        "\n",
        "#A instrução nomes.append(lista_nomes[i]) na função alunos_por_estado adiciona o nome correspondente ao estado desejado à lista nomes.\n",
        "\n",
        "# - lista_nomes[i]: Isso acessa o elemento na posição i da lista lista_nomes. Em outras palavras,\n",
        "# é o nome correspondente ao estado na mesma posição.\n",
        "# - nomes.append(...): A função append é usada para adicionar um elemento à lista nomes.\n",
        "# Neste caso, está adicionando o nome obtido de lista_nomes[i] à lista nomes.\n",
        "# Assim, em cada iteração do loop, se o estado na posição i for igual ao estado desejado,\n",
        "# o nome correspondente a esse estado será adicionado à lista nomes.\n",
        "# No final, a função retorna as listas nomes e estados contendo os nomes e estados dos alunos\n",
        "# que têm o estado correspondente ao fornecido como argumento.\n",
        "\n",
        "def alunos_por_estado(lista_nomes, lista_estados, estado):\n",
        "  nomes = []\n",
        "  estados = []\n",
        "  for i in range(len(lista_estados)):\n",
        "    if lista_estados[i] == estado:\n",
        "      nomes.append(lista_nomes[i])\n",
        "      estados.append(lista_estados[i])\n",
        "  return nomes, estados"
      ],
      "metadata": {
        "id": "6_1P-Pkqcj74"
      },
      "execution_count": null,
      "outputs": []
    },
    {
      "cell_type": "code",
      "source": [
        "alunos_por_estado(nomes, estados, 'SP')"
      ],
      "metadata": {
        "colab": {
          "base_uri": "https://localhost:8080/"
        },
        "id": "Yq_1GCeAgthx",
        "outputId": "63cabed1-92ea-4a1f-9afc-8f942aff6789"
      },
      "execution_count": null,
      "outputs": [
        {
          "output_type": "execute_result",
          "data": {
            "text/plain": [
              "(['José', 'Fernando', 'Guilherme'], ['SP', 'SP', 'SP'])"
            ]
          },
          "metadata": {},
          "execution_count": 6
        }
      ]
    },
    {
      "cell_type": "markdown",
      "source": [
        "#### 2) Crie uma função que calcula quantas pessoas foram aprovadas por estado, considerando média 6. Por exemplo, a função `quant_aprov_estado(estados, notas, 'SP')` deve retornar quantos alunos foram aprovados no estado de São Paulo."
      ],
      "metadata": {
        "id": "WMMMrm-uc3wz"
      }
    },
    {
      "cell_type": "code",
      "source": [
        "# definimos a função quant_aprov_estado que irá contar quantas vezes o estado escolhido aparece quando a nota for >= 6\n",
        "# a função recebe 3 elementos: a lista de estados, a lista de notas e o estado escolhido posteriormente\n",
        "# criamos uma variável chamada cont, que irá contar quantas vezes ess evento ocorre e ela inicia sua contagem em 0\n",
        "# cada vez que a iteração encontrar um registro de estado escolhiso que tenha nota associada >=6 ele adiciona 1 a contagem\n",
        "# então fazemos um loop sobre a lista de estados, buscando pelo estado escolhido e que tenha nota associada >=6\n",
        "\n",
        "\n",
        "def quant_aprov_estado(lista_estados,lista_notas,estado):\n",
        "  cont = 0\n",
        "  for i in range(len(lista_estados)):\n",
        "    if (lista_estados[i] == estado) & (lista_notas[i] >= 6):\n",
        "      cont += 1\n",
        "  print(f'Há {cont} aprovados no estado de {estado}')\n"
      ],
      "metadata": {
        "id": "aHJtbdGVc73x"
      },
      "execution_count": null,
      "outputs": []
    },
    {
      "cell_type": "code",
      "source": [
        "quant_aprov_estado(estados, notas, 'SP')"
      ],
      "metadata": {
        "colab": {
          "base_uri": "https://localhost:8080/"
        },
        "id": "L_guJdqRhXdY",
        "outputId": "7887b907-615a-4973-a337-3681022a6e71"
      },
      "execution_count": null,
      "outputs": [
        {
          "output_type": "stream",
          "name": "stdout",
          "text": [
            "Há 2 aprovados no estado de SP\n"
          ]
        }
      ]
    },
    {
      "cell_type": "markdown",
      "source": [
        "#### 3) Crie uma função que calcula quantos alunos há por estado. Por exemplo, a função `alunos_por_estado(estados)` deve retornar uma mensagem dizendo quantos alunos há em cada estado."
      ],
      "metadata": {
        "id": "H2rxUkYdikLQ"
      }
    },
    {
      "cell_type": "code",
      "source": [
        "# 1 criar uma função que recebe um argumento apenas, a lista dos estados\n",
        "# 2 retirar as repetiçôes da lista de estado para que tenhamos um lista única, usar a função list(set())\n",
        "# 3 printar a lista de estados para checar se está ok\n",
        "# 4 fazer um loop que irá percorrer a lista toda de estados checando se naquela posição o elemento é igual ao primeiro elemento da lista unica\n",
        "# se for, ele adicionará 1 ao contador e fará isso ao longo da lista toda\n",
        "# ao terminar ele começará a percorrer a lista toda novamente checando pelo segundo eleemento da lista unica e assim sucessivamente\n",
        "# 5 fazer um print com a variavel estado que indica o estado analisado e a variavel cont\n",
        "\n",
        "\n",
        "def alunos_por_estado(lista_estados):\n",
        "  lista_estados_unicos = list(set(lista_estados))\n",
        "  print(lista_estados_unicos)\n",
        "  for estado in lista_estados_unicos:\n",
        "    cont = 0\n",
        "    for i in range(len(lista_estados)):\n",
        "      if lista_estados[i] == estado:\n",
        "        cont +=1\n",
        "    print(f'No estado {estado} há {cont} alunos')\n"
      ],
      "metadata": {
        "id": "GOvbE5uUhbjX"
      },
      "execution_count": null,
      "outputs": []
    },
    {
      "cell_type": "code",
      "source": [
        "alunos_por_estado(estados)"
      ],
      "metadata": {
        "colab": {
          "base_uri": "https://localhost:8080/"
        },
        "id": "6ZNGGaVlkuqa",
        "outputId": "76473622-d9ef-49d4-c8e2-9064b40846cb"
      },
      "execution_count": null,
      "outputs": [
        {
          "output_type": "stream",
          "name": "stdout",
          "text": [
            "['RJ', 'RO', 'PE', 'ES', 'SP', 'RR', 'PB', 'SC', 'AM', 'PI', 'CE', 'SE', 'PR', 'BA', 'PA', 'MG', 'MS']\n",
            "No estado RJ há 1 alunos\n",
            "No estado RO há 1 alunos\n",
            "No estado PE há 1 alunos\n",
            "No estado ES há 1 alunos\n",
            "No estado SP há 3 alunos\n",
            "No estado RR há 1 alunos\n",
            "No estado PB há 1 alunos\n",
            "No estado SC há 1 alunos\n",
            "No estado AM há 2 alunos\n",
            "No estado PI há 1 alunos\n",
            "No estado CE há 1 alunos\n",
            "No estado SE há 1 alunos\n",
            "No estado PR há 1 alunos\n",
            "No estado BA há 1 alunos\n",
            "No estado PA há 1 alunos\n",
            "No estado MG há 8 alunos\n",
            "No estado MS há 1 alunos\n"
          ]
        }
      ]
    },
    {
      "cell_type": "markdown",
      "source": [
        "#### 4) Crie uma função que calcula a média das notas dos alunos de um determinado estado. Por exemplo, a função `media_por_estado(notas, estados, 'SP')` deve retornar a média das notas do alunos (com duas casas decimais) do estado de São Paulo."
      ],
      "metadata": {
        "id": "roX11LBBkEgr"
      }
    },
    {
      "cell_type": "code",
      "source": [
        "# 1 definir uma função que recebe a lista de estados, a lista de notas e o estado escolhido\n",
        "# 2 criar uma lista vazia que receberá todas as notas de alunos que residem noe stado escolhido\n",
        "# 3 fazer um loop de iteração sobre a lista de estados\n",
        "# se o estado na posição x for igual ao estado selecionado, então jogaremos a nota associada para a lista criada usado função appen()\n",
        "# 4 criar a variavel com as médias: dividindo a soma das notas pelo numero de elementos (extensão da lista de notas)\n",
        "# 5 printar o valor arredondado com 2 casas decimais usando a função round( , 2)\n",
        "\n",
        "def media_por_estado(lista_notas,lista_estados,estado):\n",
        "  notas_estado = []\n",
        "  for i in range(len(lista_estados)):\n",
        "    if lista_estados[i] == estado:\n",
        "      notas_estado.append(lista_notas[i])\n",
        "\n",
        "  media = sum(notas_estado)/len(notas_estado)\n",
        "  print(f'A média das notas dos alunos do estado {estado} é igual a {round(media,2)}')"
      ],
      "metadata": {
        "id": "JVEZlfqjkE6M"
      },
      "execution_count": null,
      "outputs": []
    },
    {
      "cell_type": "code",
      "source": [
        "media_por_estado(notas, estados, 'SP')"
      ],
      "metadata": {
        "colab": {
          "base_uri": "https://localhost:8080/"
        },
        "id": "ybvRcKHTmono",
        "outputId": "5e20ada4-989b-4b82-8b3b-d52849f8906c"
      },
      "execution_count": null,
      "outputs": [
        {
          "output_type": "stream",
          "name": "stdout",
          "text": [
            "A média das notas dos alunos do estado SP é igual a 5.67\n"
          ]
        }
      ]
    },
    {
      "cell_type": "markdown",
      "source": [
        "#### 5) Crie uma função que calcula a média das idades dos alunos aprovados (considerando media 6) de um determinado estado. Por exemplo, a função `media_idade_aprov_por_estado(notas, estados, idades, 'SP')` deve retornar a média das idades do alunos (com duas casas decimais) aprovados que residem no estado de São Paulo."
      ],
      "metadata": {
        "id": "53LQI5JvnjjL"
      }
    },
    {
      "cell_type": "code",
      "source": [
        "# 1 - definir a função que recebe 4 elementos: a lista de notas, a lista de estados, a lista de idade e por fim o estado a ser selecionado.\n",
        "# 2 - criar uma lista vazia que receberá todas as idades dos alunos aprovados do estado a ser selecionado\n",
        "# 3 - fazer um loop para que ele percorra toda a exrensão da lista de estados (usar a função range(len()) para percorrer toda a extensão da lista)\n",
        "# 4 - montar a condicional para que se o elemento da lista de estados for igual ao estado selecionado e se a nota na lista de nota for maior do que 6\n",
        "# 5 - adicionará a idade vinculada àquele elemento na lista vazia criada (usando a função .append())\n",
        "# 6 - criar uma nova variável que calcula a média: somar as idades e dividir pelo numero de casos (extensão da lista), usar a função round( ,2)\n",
        "# para arredondar para duas casas decimais\n",
        "\n",
        "\n",
        "def media_idade_aprov_por_estado(lista_notas,lista_estados,lista_idades,estado):\n",
        "  idades_aprovados = []\n",
        "  for i in range(len(lista_idades)):\n",
        "    if (lista_estados[i] == estado) & (lista_notas[i] >=6):\n",
        "      idades_aprovados.append(lista_idades[i])\n",
        "\n",
        "  idade_media = round(sum(idades_aprovados)/len(idades_aprovados),2)\n",
        "  print(f'A média de idade dos alunos aprovados no estado de {estado} é {idade_media}')\n"
      ],
      "metadata": {
        "id": "wCJTqBFemsDG"
      },
      "execution_count": null,
      "outputs": []
    },
    {
      "cell_type": "code",
      "source": [
        "media_idade_aprov_por_estado(notas, estados, idades, 'SP')"
      ],
      "metadata": {
        "colab": {
          "base_uri": "https://localhost:8080/"
        },
        "id": "RVqtGN_ToqNc",
        "outputId": "d1ffd232-ba2b-4232-b0e5-d998489c214b"
      },
      "execution_count": null,
      "outputs": [
        {
          "output_type": "stream",
          "name": "stdout",
          "text": [
            "A média de idade dos alunos aprovados no estado de SP é 36.5\n"
          ]
        }
      ]
    }
  ]
}