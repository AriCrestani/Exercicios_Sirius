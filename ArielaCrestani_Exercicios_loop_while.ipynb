{
  "cells": [
    {
      "cell_type": "markdown",
      "metadata": {
        "id": "view-in-github",
        "colab_type": "text"
      },
      "source": [
        "<a href=\"https://colab.research.google.com/github/AriCrestani/Exercicios_Sirius/blob/main/ArielaCrestani_Exercicios_loop_while.ipynb\" target=\"_parent\"><img src=\"https://colab.research.google.com/assets/colab-badge.svg\" alt=\"Open In Colab\"/></a>"
      ]
    },
    {
      "cell_type": "markdown",
      "id": "a132daf4",
      "metadata": {
        "id": "a132daf4"
      },
      "source": [
        "#### Exercício 1\n",
        "Apresentar o quadrado dos números inteiros de 15 a 200"
      ]
    },
    {
      "cell_type": "code",
      "execution_count": null,
      "id": "5a6c5218",
      "metadata": {
        "id": "5a6c5218",
        "colab": {
          "base_uri": "https://localhost:8080/"
        },
        "outputId": "c7562738-0fa9-4fc8-8efb-7f13ffdc6fd0"
      },
      "outputs": [
        {
          "output_type": "stream",
          "name": "stdout",
          "text": [
            "[15, 16, 17, 18, 19, 20, 21, 22, 23, 24, 25, 26, 27, 28, 29, 30, 31, 32, 33, 34, 35, 36, 37, 38, 39, 40, 41, 42, 43, 44, 45, 46, 47, 48, 49, 50, 51, 52, 53, 54, 55, 56, 57, 58, 59, 60, 61, 62, 63, 64, 65, 66, 67, 68, 69, 70, 71, 72, 73, 74, 75, 76, 77, 78, 79, 80, 81, 82, 83, 84, 85, 86, 87, 88, 89, 90, 91, 92, 93, 94, 95, 96, 97, 98, 99, 100, 101, 102, 103, 104, 105, 106, 107, 108, 109, 110, 111, 112, 113, 114, 115, 116, 117, 118, 119, 120, 121, 122, 123, 124, 125, 126, 127, 128, 129, 130, 131, 132, 133, 134, 135, 136, 137, 138, 139, 140, 141, 142, 143, 144, 145, 146, 147, 148, 149, 150, 151, 152, 153, 154, 155, 156, 157, 158, 159, 160, 161, 162, 163, 164, 165, 166, 167, 168, 169, 170, 171, 172, 173, 174, 175, 176, 177, 178, 179, 180, 181, 182, 183, 184, 185, 186, 187, 188, 189, 190, 191, 192, 193, 194, 195, 196, 197, 198, 199]\n"
          ]
        }
      ],
      "source": [
        "# criar uma lista com números de 15 a 200\n",
        "# fazer uma alça de loop que percorre a lsiat toda voltando cada um dos valores ao quadrado\n",
        "# imprimir a lista\n",
        "\n",
        "lista_numeros = list(range(15,200))\n",
        "print(lista_numeros)\n"
      ]
    },
    {
      "cell_type": "code",
      "source": [
        "# fazer uma alça de loop que percorre a lsiat toda voltando cada um dos valores ao quadrado\n",
        "# imprimir a lista\n",
        "\n",
        "lista_potencia = []\n",
        "\n",
        "for i in range(len(lista)):\n",
        "  valor_quadrado = lista_numeros[i] ** 2\n",
        "  lista_potencia.append(valor_quadrado)\n",
        "\n",
        "print(lista_potencia)\n"
      ],
      "metadata": {
        "colab": {
          "base_uri": "https://localhost:8080/"
        },
        "id": "SzWAafc7ZaRI",
        "outputId": "110bff87-0381-4c19-83fa-8ee7db8ad164"
      },
      "id": "SzWAafc7ZaRI",
      "execution_count": null,
      "outputs": [
        {
          "output_type": "stream",
          "name": "stdout",
          "text": [
            "[225, 256, 289, 324, 361, 400, 441, 484, 529, 576, 625, 676, 729, 784, 841, 900, 961, 1024, 1089, 1156, 1225, 1296, 1369, 1444, 1521, 1600, 1681, 1764, 1849, 1936, 2025, 2116, 2209, 2304, 2401, 2500, 2601, 2704, 2809, 2916, 3025, 3136, 3249, 3364, 3481, 3600, 3721, 3844, 3969, 4096, 4225, 4356, 4489, 4624, 4761, 4900, 5041, 5184, 5329, 5476, 5625, 5776, 5929, 6084, 6241, 6400, 6561, 6724, 6889, 7056, 7225, 7396, 7569, 7744, 7921, 8100, 8281, 8464, 8649, 8836, 9025, 9216, 9409, 9604, 9801, 10000, 10201, 10404, 10609, 10816, 11025, 11236, 11449, 11664, 11881, 12100, 12321, 12544, 12769, 12996, 13225, 13456, 13689, 13924, 14161, 14400, 14641, 14884, 15129, 15376, 15625, 15876, 16129, 16384, 16641, 16900, 17161, 17424, 17689, 17956, 18225, 18496, 18769, 19044, 19321, 19600, 19881, 20164, 20449, 20736, 21025, 21316, 21609, 21904, 22201, 22500, 22801, 23104, 23409, 23716, 24025, 24336, 24649, 24964, 25281, 25600, 25921, 26244, 26569, 26896, 27225, 27556, 27889, 28224, 28561, 28900, 29241, 29584, 29929, 30276, 30625, 30976, 31329, 31684, 32041, 32400, 32761, 33124, 33489, 33856, 34225, 34596, 34969, 35344, 35721, 36100, 36481, 36864, 37249, 37636, 38025, 38416, 38809, 39204, 39601]\n"
          ]
        }
      ]
    },
    {
      "cell_type": "markdown",
      "id": "81d49018",
      "metadata": {
        "id": "81d49018"
      },
      "source": [
        "#### Exercício 2\n",
        "\n",
        "Apresentar o total da soma obtida dos cem primeiros números inteiros\n",
        "(1+2+3+4+5+6+7+...+97+98+99+100)"
      ]
    },
    {
      "cell_type": "code",
      "execution_count": null,
      "id": "74b15ef2",
      "metadata": {
        "id": "74b15ef2",
        "colab": {
          "base_uri": "https://localhost:8080/"
        },
        "outputId": "35252fad-da8f-4c46-ef8b-6fbca78e4477"
      },
      "outputs": [
        {
          "output_type": "stream",
          "name": "stdout",
          "text": [
            "[1, 2, 3, 4, 5, 6, 7, 8, 9, 10, 11, 12, 13, 14, 15, 16, 17, 18, 19, 20, 21, 22, 23, 24, 25, 26, 27, 28, 29, 30, 31, 32, 33, 34, 35, 36, 37, 38, 39, 40, 41, 42, 43, 44, 45, 46, 47, 48, 49, 50, 51, 52, 53, 54, 55, 56, 57, 58, 59, 60, 61, 62, 63, 64, 65, 66, 67, 68, 69, 70, 71, 72, 73, 74, 75, 76, 77, 78, 79, 80, 81, 82, 83, 84, 85, 86, 87, 88, 89, 90, 91, 92, 93, 94, 95, 96, 97, 98, 99]\n"
          ]
        }
      ],
      "source": [
        "# criando a lista com números de 1 a 100\n",
        "\n",
        "lista = list(range(1,100))\n",
        "print(lista)"
      ]
    },
    {
      "cell_type": "code",
      "source": [
        "# somando os valores da lista usando a sum()\n",
        "\n",
        "soma = sum(lista)\n",
        "\n",
        "print(soma)"
      ],
      "metadata": {
        "colab": {
          "base_uri": "https://localhost:8080/"
        },
        "id": "_rXSz_V3iIYm",
        "outputId": "4bf155f6-c47d-420f-a4a9-58d913268a27"
      },
      "id": "_rXSz_V3iIYm",
      "execution_count": null,
      "outputs": [
        {
          "output_type": "stream",
          "name": "stdout",
          "text": [
            "4950\n"
          ]
        }
      ]
    },
    {
      "cell_type": "markdown",
      "id": "478a5daa",
      "metadata": {
        "id": "478a5daa"
      },
      "source": [
        "#### Exercício 3\n",
        "Escrever um algoritmo que lê 5 valores para a variável A, um de cada vez,\n",
        "e contar quantos destes valores são negativos. Após a leitura, o programa deve mostrar\n",
        "a quantidade de números negativos"
      ]
    },
    {
      "cell_type": "code",
      "execution_count": null,
      "id": "a5d7f537",
      "metadata": {
        "id": "a5d7f537",
        "colab": {
          "base_uri": "https://localhost:8080/"
        },
        "outputId": "a8761963-0297-4d89-d115-656874aadc46"
      },
      "outputs": [
        {
          "output_type": "stream",
          "name": "stdout",
          "text": [
            "O total de números negativos na lista é:2\n"
          ]
        }
      ],
      "source": [
        "# criar uma lista com 5 elementos numéricos\n",
        "\n",
        "lista = [-1, 3, 4, 7, -8]\n",
        "\n",
        "contador = 0\n",
        "\n",
        "for numero in lista:\n",
        "  if numero < 0:\n",
        "    contador +=1\n",
        "\n",
        "print(f'O total de números negativos na lista é:{contador}')"
      ]
    },
    {
      "cell_type": "markdown",
      "id": "c4288dd1",
      "metadata": {
        "id": "c4288dd1"
      },
      "source": [
        "#### Exercício 4\n",
        "Ler duas notas e informar a média. Se o valor digitado for menor do que 0 (zero)\n",
        "ou maior do que 10 (dez), o usuário deve digitar a nota novamente"
      ]
    },
    {
      "cell_type": "code",
      "execution_count": null,
      "id": "9775ae40",
      "metadata": {
        "id": "9775ae40",
        "colab": {
          "base_uri": "https://localhost:8080/"
        },
        "outputId": "762b61eb-6ad1-453b-e877-d0f6a2cc022e"
      },
      "outputs": [
        {
          "output_type": "stream",
          "name": "stdout",
          "text": [
            "Olá, digite os valores da sua nota 1 e da nota 2 para gerarmos a média\n",
            "Digite a primeira nota: -4\n",
            "Nota fora do intervalo permitido. Digite novamente.\n",
            "Digite a primeira nota: 4\n",
            "Digite a segunda nota: -2\n",
            "Nota fora do intervalo permitido. Digite novamente.\n",
            "Digite a segunda nota: 10\n",
            "A média das notas 4.0 e 10.0 é 7.0.\n"
          ]
        }
      ],
      "source": [
        "# usarei while para fazer o loop\n",
        "# quando a nota estiver fora do intervalo, o usuario recebe uma mensagem e o loop que solicita a nota 1 continua\n",
        "# quando a nota estiver no intervalo correto, o loop encerra com break e segue para o loop da nota 2\n",
        "# espelhar o mesmo racional para a nota2 e depois calcular a média das notas válidas\n",
        "\n",
        "\n",
        "print(f'Olá, digite os valores da sua nota 1 e da nota 2 para gerarmos a média')\n",
        "\n",
        "while True:\n",
        "    try:\n",
        "        nota1 = float(input('Digite a primeira nota: '))\n",
        "        if 0 <= nota1 <= 10:\n",
        "            break\n",
        "        else:\n",
        "            print('Nota fora do intervalo permitido. Digite novamente.')\n",
        "    except ValueError:\n",
        "        print('Entrada inválida. Digite um número válido.')\n",
        "\n",
        "while True:\n",
        "    try:\n",
        "        nota2 = float(input('Digite a segunda nota: '))\n",
        "        if 0 <= nota2 <= 10:\n",
        "            break\n",
        "        else:\n",
        "            print('Nota fora do intervalo permitido. Digite novamente.')\n",
        "    except ValueError:\n",
        "        print('Entrada inválida. Digite um número válido.')\n",
        "\n",
        "media = (nota1 + nota2) / 2\n",
        "print(f'A média das notas {nota1} e {nota2} é {media}.')\n"
      ]
    }
  ],
  "metadata": {
    "kernelspec": {
      "display_name": "Python 3",
      "language": "python",
      "name": "python3"
    },
    "language_info": {
      "codemirror_mode": {
        "name": "ipython",
        "version": 3
      },
      "file_extension": ".py",
      "mimetype": "text/x-python",
      "name": "python",
      "nbconvert_exporter": "python",
      "pygments_lexer": "ipython3",
      "version": "3.8.8"
    },
    "colab": {
      "provenance": [],
      "include_colab_link": true
    }
  },
  "nbformat": 4,
  "nbformat_minor": 5
}