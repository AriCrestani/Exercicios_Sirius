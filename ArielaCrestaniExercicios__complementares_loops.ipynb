{
  "cells": [
    {
      "cell_type": "markdown",
      "metadata": {
        "id": "view-in-github",
        "colab_type": "text"
      },
      "source": [
        "<a href=\"https://colab.research.google.com/github/AriCrestani/Exercicios_Sirius/blob/main/ArielaCrestaniExercicios__complementares_loops.ipynb\" target=\"_parent\"><img src=\"https://colab.research.google.com/assets/colab-badge.svg\" alt=\"Open In Colab\"/></a>"
      ]
    },
    {
      "cell_type": "markdown",
      "id": "deff90ca",
      "metadata": {
        "id": "deff90ca"
      },
      "source": [
        "#### Exercicio 1\n",
        "\n",
        "Nesse exercícios você deverá criar 3 funções que irão receber uma lista de números inteiros e retornar a soma deles.\n",
        "A primeira função você deverá fazer utilizando WHILE, na segunda FOR e na terceira de alguma outra maneira.\n",
        "\n",
        "Exemplo:\n",
        "\n",
        "lista_numeros = [1,2,3,4,5,6,7,8,9,10]\n",
        "\n",
        "print(soma_while(lista_numeros))\n",
        "\n",
        "55\n",
        "\n",
        "print(soma_for(lista_numeros))\n",
        "\n",
        "55\n",
        "\n",
        "print(soma(lista_numeros))\n",
        "\n",
        "55"
      ]
    },
    {
      "cell_type": "code",
      "execution_count": null,
      "id": "bc9492e0",
      "metadata": {
        "id": "bc9492e0",
        "colab": {
          "base_uri": "https://localhost:8080/"
        },
        "outputId": "6bb4b428-1492-4a6a-c238-9922c2dae3cb"
      },
      "outputs": [
        {
          "output_type": "stream",
          "name": "stdout",
          "text": [
            "55\n"
          ]
        }
      ],
      "source": [
        "# usando for\n",
        "\n",
        "lista_numeros = [1,2,3,4,5,6,7,8,9,10]\n",
        "\n",
        "def soma_for(lista):\n",
        "  soma = 0\n",
        "  for item in lista_numeros:\n",
        "    soma += item\n",
        "  return soma\n",
        "\n",
        "print(soma_for(lista_numeros))\n",
        "\n"
      ]
    },
    {
      "cell_type": "code",
      "execution_count": null,
      "id": "c3caff35",
      "metadata": {
        "id": "c3caff35",
        "colab": {
          "base_uri": "https://localhost:8080/"
        },
        "outputId": "02dcec3f-8f52-48b2-d661-067f4f247241"
      },
      "outputs": [
        {
          "output_type": "stream",
          "name": "stdout",
          "text": [
            "55\n"
          ]
        }
      ],
      "source": [
        "# usando while\n",
        "\n",
        "lista_numeros = [1,2,3,4,5,6,7,8,9,10]\n",
        "\n",
        "def soma_while(lista):\n",
        "  i = 0\n",
        "  soma = 0\n",
        "\n",
        "  while i < len(lista_numeros):\n",
        "    soma += lista[i]\n",
        "    i += 1\n",
        "\n",
        "  return soma\n",
        "\n",
        "\n",
        "print(soma_while(lista_numeros))\n"
      ]
    },
    {
      "cell_type": "code",
      "execution_count": null,
      "id": "8c8cf71a",
      "metadata": {
        "id": "8c8cf71a",
        "colab": {
          "base_uri": "https://localhost:8080/"
        },
        "outputId": "d9a52e0a-1e6e-4797-a0a6-8cfce0255427"
      },
      "outputs": [
        {
          "output_type": "execute_result",
          "data": {
            "text/plain": [
              "55"
            ]
          },
          "metadata": {},
          "execution_count": 27
        }
      ],
      "source": [
        "# somando como tupla\n",
        "# transformei a lista em tupla e somei\n",
        "\n",
        "lista_numeros = [1,2,3,4,5,6,7,8,9,10]\n",
        "tupla = tuple(lista_numeros)\n",
        "\n",
        "sum(tupla)"
      ]
    },
    {
      "cell_type": "markdown",
      "id": "5e5347d6",
      "metadata": {
        "id": "5e5347d6"
      },
      "source": [
        "##### Exercicio 2\n",
        "\n",
        "Escreva um programa em Python para adivinhar um número entre 1 e 9.\n",
        "\n",
        "Nota: O usuário é solicitado a inserir um palpite. Se o usuário adivinhar errado, o prompt aparecerá novamente até que o palpite esteja correto, em um palpite bem-sucedido, o usuário receberá um \"Correto!\" e o programa será encerrado.\n",
        "\n",
        "Dica: Use o pacote random"
      ]
    },
    {
      "cell_type": "code",
      "source": [
        "import random\n",
        "\n",
        "def advinhar():\n",
        "    numero = random.randint(1, 9)\n",
        "    print('Olá! Você precisa advinhar um número, ele é um número inteiro e pode variar entre 1 e 9. Vamos tentar?')\n",
        "\n",
        "    while True:\n",
        "        try:\n",
        "            palpite = int(input('Digite aqui seu palpite: '))\n",
        "            if palpite == numero:\n",
        "                print('Correto!')\n",
        "                break  # Encerra o loop quando o palpite é correto\n",
        "        except ValueError:\n",
        "            print('Por favor, digite um número inteiro válido.')\n",
        "\n",
        "advinhar()\n"
      ],
      "metadata": {
        "id": "TqclmzgERjIx"
      },
      "id": "TqclmzgERjIx",
      "execution_count": null,
      "outputs": []
    },
    {
      "cell_type": "code",
      "execution_count": null,
      "id": "d1589283",
      "metadata": {
        "id": "d1589283"
      },
      "outputs": [],
      "source": [
        "# importar a biblioteca random para usar a função random.randint(inicio,fim) para gerar a sequencia\n",
        "# fazer um loop while, quando o numero digitado for igual ao geradom imprimir correto e fechar o programa\n",
        "# enquanto não for igual, ficar repetindo o loop\n",
        "\n",
        "\n",
        "import random\n",
        "\n",
        "def advinhar():\n",
        "  numero = random.randint(1, 9)\n",
        "  print(f'Olá! Você precisa advinhar um número, ele é umnúmero inteiro e pode variar entre 1 e 9. Vamos tentar?')\n",
        "\n",
        "\n",
        "  while True:\n",
        "      palpite = int(input('Digite aqui seu palpite: '))\n",
        "      if palpite == numero:\n",
        "        print('Correto!')\n",
        "        break"
      ]
    },
    {
      "cell_type": "code",
      "execution_count": null,
      "id": "d38719d5",
      "metadata": {
        "id": "d38719d5",
        "colab": {
          "base_uri": "https://localhost:8080/"
        },
        "outputId": "e11a3666-977b-4a7f-a80d-cabc5f429082"
      },
      "outputs": [
        {
          "output_type": "stream",
          "name": "stdout",
          "text": [
            "Olá! Você precisa advinhar um número, ele é umnúmero inteiro e pode variar entre 1 e 9. Vamos tentar?\n",
            "Digite aqui seu palpite: 4\n",
            "Digite aqui seu palpite: 5\n",
            "Correto!\n"
          ]
        }
      ],
      "source": [
        "advinhar()"
      ]
    },
    {
      "cell_type": "markdown",
      "id": "75b05f01",
      "metadata": {
        "id": "75b05f01"
      },
      "source": [
        "#### Exercicio 3\n",
        "\n",
        "Nesse exercícios você deverá criar 3 métodos que irá receber um array de números inteiros e retornar a Média Aritmética Simples deles.\n",
        "O primeiro método você deverá fazer utilizando WHILE, no segundo FOR e no terceiro de alguma outra maneira.\n",
        "\n",
        "Exemplo:\n",
        "    \n",
        "lista_numeros = [1,2,3,4,5,6,7,8,9,10]\n",
        "\n",
        "print(media_while(lista_numeros))\n",
        "\n",
        "5.5\n",
        "\n",
        "print(media_for(lista_numeros))\n",
        "\n",
        "5.5\n",
        "\n",
        "print(media(lista_numeros))\n",
        "\n",
        "5.5\n"
      ]
    },
    {
      "cell_type": "code",
      "execution_count": null,
      "id": "62f7962d",
      "metadata": {
        "id": "62f7962d",
        "colab": {
          "base_uri": "https://localhost:8080/"
        },
        "outputId": "689bef15-1053-4c6d-f2f7-281cfaa604bc"
      },
      "outputs": [
        {
          "output_type": "stream",
          "name": "stdout",
          "text": [
            "5.5\n"
          ]
        }
      ],
      "source": [
        "# usando for\n",
        "\n",
        "lista_numeros = [1,2,3,4,5,6,7,8,9,10]\n",
        "\n",
        "def media_for(lista):\n",
        "  soma = 0\n",
        "  for numero in lista:\n",
        "    soma += numero\n",
        "\n",
        "  n = len(lista)\n",
        "  media = soma / n\n",
        "\n",
        "  return media\n",
        "\n",
        "print(media_for(lista_numeros))"
      ]
    },
    {
      "cell_type": "code",
      "execution_count": null,
      "id": "fd975bc0",
      "metadata": {
        "id": "fd975bc0",
        "colab": {
          "base_uri": "https://localhost:8080/"
        },
        "outputId": "315af45d-4003-4bf7-bcd7-25739b489862"
      },
      "outputs": [
        {
          "output_type": "stream",
          "name": "stdout",
          "text": [
            "5.5\n"
          ]
        }
      ],
      "source": [
        "# usando while\n",
        "\n",
        "lista_numeros = [1,2,3,4,5,6,7,8,9,10]\n",
        "\n",
        "def media_while(lista):\n",
        "  i = 0\n",
        "  soma = 0\n",
        "\n",
        "  while i < len(lista):\n",
        "    soma += lista[i]\n",
        "    i +=1\n",
        "  n = len(lista)\n",
        "  media = soma/n\n",
        "\n",
        "  return media\n",
        "\n",
        "print(media_while(lista_numeros))\n"
      ]
    },
    {
      "cell_type": "code",
      "execution_count": null,
      "id": "b02560c3",
      "metadata": {
        "id": "b02560c3",
        "colab": {
          "base_uri": "https://localhost:8080/"
        },
        "outputId": "2f939b7c-ff12-4461-b802-b53555af1e1e"
      },
      "outputs": [
        {
          "output_type": "stream",
          "name": "stdout",
          "text": [
            "5.5\n"
          ]
        }
      ],
      "source": [
        "# transformando em tupla\n",
        "\n",
        "lista_numeros = [1,2,3,4,5,6,7,8,9,10]\n",
        "\n",
        "tupla = tuple(lista_numeros)\n",
        "\n",
        "soma = sum(tupla)\n",
        "n = len(tupla)\n",
        "\n",
        "media = soma / n\n",
        "\n",
        "print(media)"
      ]
    }
  ],
  "metadata": {
    "hide_input": false,
    "kernelspec": {
      "display_name": "Python 3 (ipykernel)",
      "language": "python",
      "name": "python3"
    },
    "language_info": {
      "codemirror_mode": {
        "name": "ipython",
        "version": 3
      },
      "file_extension": ".py",
      "mimetype": "text/x-python",
      "name": "python",
      "nbconvert_exporter": "python",
      "pygments_lexer": "ipython3",
      "version": "3.9.7"
    },
    "colab": {
      "provenance": [],
      "include_colab_link": true
    }
  },
  "nbformat": 4,
  "nbformat_minor": 5
}